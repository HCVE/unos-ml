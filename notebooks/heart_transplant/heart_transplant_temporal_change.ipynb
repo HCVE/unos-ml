{
 "cells": [
  {
   "cell_type": "markdown",
   "metadata": {},
   "source": [
    "# Initialization"
   ]
  },
  {
   "cell_type": "code",
   "execution_count": null,
   "metadata": {},
   "outputs": [],
   "source": [
    "import itertools\n",
    "import os\n",
    "from pathlib import Path\n",
    "from matplotlib import pyplot as plt\n",
    "from pandas.core.base import DataError\n",
    "from sklearn.model_selection import RandomizedSearchCV\n",
    "from sklearn.pipeline import Pipeline\n",
    "from notebooks.heart_transplant.dependencies.heart_transplant_functions import get_rolling_cv, \\\n",
    "    remove_missing_columns, format_feature\n",
    "\n",
    "for folder in itertools.chain([Path.cwd()], Path.cwd().parents):\n",
    "    if (folder / 'Pipfile').exists():\n",
    "        os.chdir(folder)\n",
    "        break\n",
    "\n",
    "from notebooks.heart_transplant.dependencies.heart_transplant_data import *\n",
    "\n",
    "%load_ext autoreload\n",
    "%autoreload 2\n",
    "%load_ext autotime\n",
    "%config InlineBackend.figure_format = 'retina'\n",
    "\n",
    "plt.style.use('dark_background')\n",
    "\n",
    "X = X_reduced[continuous_features]\n",
    "y = y_reduced\n",
    "\n",
    "top_40_rf_features = ['log_ischtime', 'log_tbili', 'log_creat_trr', 'hist_mi', 'log_cmassratio', 'weight ratio', 'congenital', 'ecd_donor', 'log_wgt_kg_calc', 'log_sgpt_don', 'log_sgot_don', 'log_age_don', 'log_wgt_kg_don_calc', 'log_distance', 'log_age', 'cdc_risk_hiv_don', 'log_hgt_cm_calc', 'log_hgt_cm_don_calc', 'log_bun_don', 'coronary_angio', 'log_tbili_don', 'tattoos', 'biopsy_dgn', 'log_creat_don', 'vessels_50sten', 'log_most_rcnt_creat', 'lv_eject', 'education', 'retransplant', 'log_newpra', 'protein_urine', 'hematocrit_don', 'iabp_tcr', 'hist_iv_drug_old_don', 'hiv_serostatus', 'gender', 'cmv_status', 'hemo_co_tcr', 'impl_defibril', 'hist_hypertens_don']"
   ]
  },
  {
   "cell_type": "code",
   "execution_count": null,
   "metadata": {},
   "outputs": [],
   "source": [
    "scaler = use_df(StandardScaler)().fit(X)\n",
    "X_scaled  = scaler.transform(X)\n",
    "\n",
    "for feature in top_40_rf_features:\n",
    "    if feature not in X.columns:\n",
    "        print('Skipping', feature)\n",
    "        continue\n",
    "\n",
    "    try:\n",
    "        plt.title(format_feature(metadata, feature))\n",
    "        X_scaled[y==1][feature].groupby(X_scaled.assign(tx_year=dataset_raw['tx_year'])['tx_year']).mean().plot(label='Died')\n",
    "        X_scaled[y==0][feature].groupby(X_scaled.assign(tx_year=dataset_raw['tx_year'])['tx_year']).mean().plot(label='Survived')\n",
    "        # X.assign(tx_year=dataset_raw['tx_year']).plot(x='tx_year', y=feature, kind='scatter', c=['red' if y else 'blue' for y in y.values], alpha=0.2)\n",
    "        plt.legend()\n",
    "        plt.ylim(-0.5, 0.5)\n",
    "    except DataError:\n",
    "        pass\n",
    "    else:\n",
    "        plt.show()"
   ]
  },
  {
   "cell_type": "code",
   "execution_count": null,
   "metadata": {},
   "outputs": [],
   "source": []
  }
 ],
 "metadata": {
  "kernelspec": {
   "display_name": "Python 3",
   "language": "python",
   "name": "python3"
  }
 },
 "nbformat": 4,
 "nbformat_minor": 0
}
