{
 "cells": [
  {
   "cell_type": "markdown",
   "source": [
    "# Initialization\n"
   ],
   "metadata": {
    "collapsed": false
   }
  },
  {
   "cell_type": "code",
   "execution_count": 9,
   "outputs": [
    {
     "name": "stdout",
     "output_type": "stream",
     "text": [
      "/home/sitnarf/projects/cardiovascular-risk-app/backend\n",
      "The autoreload extension is already loaded. To reload it, use:\n",
      "  %reload_ext autoreload\n",
      "The autotime extension is already loaded. To reload it, use:\n",
      "  %reload_ext autotime\n",
      "time: 5.48 ms (started: 2021-03-04 23:22:00 +00:00)\n"
     ]
    }
   ],
   "source": [
    "import swifter\n",
    "%cd /home/sitnarf/projects/cardiovascular-risk-app/backend\n",
    "\n",
    "\n",
    "from notebooks.heart_transplant.dependencies.heart_transplant_data import get_reduced_binary_dataset_cached, \\\n",
    "    get_binary_dataset_cached, keep_only_heart, remove_last_year, reduce_dataset\n",
    "\n",
    "from notebooks.heart_transplant.dependencies.heart_transplant_functions import filter_out_unused_features, \\\n",
    "    reverse_log_transform_dataset\n",
    "from notebooks.heart_transplant.dependencies.heart_transplant_metadata import heart_transplant_metadata\n",
    "\n",
    "from toolz import get\n",
    "\n",
    "import itertools\n",
    "import os\n",
    "from pathlib import Path\n",
    "from visualisation import display_number\n",
    "\n",
    "for folder in itertools.chain([Path.cwd()], Path.cwd().parents):\n",
    "    if (folder / 'Pipfile').exists():\n",
    "        os.chdir(folder)\n",
    "        break\n",
    "\n",
    "from matplotlib import pyplot as plt\n",
    "\n",
    "%load_ext autoreload\n",
    "%autoreload 2\n",
    "%load_ext autotime\n",
    "%config InlineBackend.figure_format = 'retina'\n",
    "\n",
    "plt.style.use('dark_background')"
   ],
   "metadata": {
    "collapsed": false,
    "pycharm": {
     "name": "#%%\n"
    }
   }
  },
  {
   "cell_type": "code",
   "execution_count": 10,
   "outputs": [
    {
     "name": "stdout",
     "output_type": "stream",
     "text": [
      "time: 3.65 s (started: 2021-03-04 23:22:00 +00:00)\n"
     ]
    }
   ],
   "source": [
    "X_365, y_365, dataset_raw = get_reduced_binary_dataset_cached()\n",
    "\n",
    "X_365_full, y_365_full, _ = get_binary_dataset_cached()\n",
    "\n",
    "X_90, y_90, _ = get_reduced_binary_dataset_cached(survival_days=90)"
   ],
   "metadata": {
    "collapsed": false,
    "pycharm": {
     "name": "#%%\n"
    }
   }
  },
  {
   "cell_type": "markdown",
   "source": [
    "## Exploratory analysis"
   ],
   "metadata": {
    "collapsed": false
   }
  },
  {
   "cell_type": "markdown",
   "source": [
    "### Total rows (dataset_raw)"
   ],
   "metadata": {
    "collapsed": false
   }
  },
  {
   "cell_type": "code",
   "execution_count": 11,
   "outputs": [
    {
     "data": {
      "text/plain": "<IPython.core.display.HTML object>",
      "text/html": "153 208"
     },
     "metadata": {},
     "output_type": "display_data"
    },
    {
     "name": "stdout",
     "output_type": "stream",
     "text": [
      "time: 1.74 ms (started: 2021-03-04 23:22:04 +00:00)\n"
     ]
    }
   ],
   "source": [
    "display_number(len(dataset_raw))"
   ],
   "metadata": {
    "collapsed": false,
    "pycharm": {
     "name": "#%%\n"
    }
   }
  },
  {
   "cell_type": "markdown",
   "source": [
    "### Total rows (transplantation has occurred)"
   ],
   "metadata": {
    "collapsed": false
   }
  },
  {
   "cell_type": "code",
   "execution_count": 12,
   "outputs": [
    {
     "data": {
      "text/plain": "<IPython.core.display.HTML object>",
      "text/html": "91 259"
     },
     "metadata": {},
     "output_type": "display_data"
    },
    {
     "name": "stdout",
     "output_type": "stream",
     "text": [
      "time: 86.8 ms (started: 2021-03-04 23:22:04 +00:00)\n"
     ]
    }
   ],
   "source": [
    "X_total = dataset_raw[~dataset_raw['death'].isna()]\n",
    "\n",
    "display_number(len(X_total))"
   ],
   "metadata": {
    "collapsed": false,
    "pycharm": {
     "name": "#%%\n"
    }
   }
  },
  {
   "cell_type": "markdown",
   "source": [
    "### Total rows (only heart transplantation)"
   ],
   "metadata": {
    "collapsed": false
   }
  },
  {
   "cell_type": "code",
   "execution_count": 13,
   "outputs": [
    {
     "data": {
      "text/plain": "<IPython.core.display.HTML object>",
      "text/html": "90 038"
     },
     "metadata": {},
     "output_type": "display_data"
    },
    {
     "name": "stdout",
     "output_type": "stream",
     "text": [
      "time: 68.2 ms (started: 2021-03-04 23:22:04 +00:00)\n"
     ]
    }
   ],
   "source": [
    "X_only_heart = keep_only_heart(X_total)\n",
    "display_number(len(X_only_heart))"
   ],
   "metadata": {
    "collapsed": false,
    "pycharm": {
     "name": "#%%\n"
    }
   }
  },
  {
   "cell_type": "markdown",
   "source": [
    "### Total rows (year 2017 removed)"
   ],
   "metadata": {
    "collapsed": false
   }
  },
  {
   "cell_type": "code",
   "execution_count": 14,
   "outputs": [
    {
     "data": {
      "text/plain": "<IPython.core.display.HTML object>",
      "text/html": "86 620"
     },
     "metadata": {},
     "output_type": "display_data"
    },
    {
     "name": "stdout",
     "output_type": "stream",
     "text": [
      "time: 80.3 ms (started: 2021-03-04 23:22:04 +00:00)\n"
     ]
    }
   ],
   "source": [
    "X_only_heart = remove_last_year(X_only_heart)\n",
    "display_number(len(X_only_heart))\n"
   ],
   "metadata": {
    "collapsed": false,
    "pycharm": {
     "name": "#%%\n"
    }
   }
  },
  {
   "cell_type": "markdown",
   "source": [
    "### Total rows (only with > 80 non-missing variables kept)"
   ],
   "metadata": {
    "collapsed": false
   }
  },
  {
   "cell_type": "code",
   "execution_count": 15,
   "outputs": [
    {
     "data": {
      "text/plain": "<IPython.core.display.HTML object>",
      "text/html": "72 379"
     },
     "metadata": {},
     "output_type": "display_data"
    },
    {
     "name": "stdout",
     "output_type": "stream",
     "text": [
      "time: 3.63 s (started: 2021-03-04 23:22:04 +00:00)\n"
     ]
    }
   ],
   "source": [
    "from functional import pipe\n",
    "from functools import partial\n",
    "\n",
    "X_reduced = pipe(\n",
    "    X_only_heart,\n",
    "    partial(filter_out_unused_features, metadata=heart_transplant_metadata),\n",
    "    partial(reduce_dataset, y=y_365),\n",
    "    partial(get, 0),\n",
    ")\n",
    "\n",
    "display_number(len(X_reduced))"
   ],
   "metadata": {
    "collapsed": false,
    "pycharm": {
     "name": "#%%\n"
    }
   }
  },
  {
   "cell_type": "markdown",
   "source": [
    "### Total rows with 365 days survival defined"
   ],
   "metadata": {
    "collapsed": false
   }
  },
  {
   "cell_type": "code",
   "execution_count": 16,
   "outputs": [
    {
     "data": {
      "text/plain": "<IPython.core.display.HTML object>",
      "text/html": "68 462"
     },
     "metadata": {},
     "output_type": "display_data"
    },
    {
     "name": "stdout",
     "output_type": "stream",
     "text": [
      "time: 1.96 ms (started: 2021-03-04 23:22:08 +00:00)\n"
     ]
    }
   ],
   "source": [
    "display_number(len(X_365))"
   ],
   "metadata": {
    "collapsed": false,
    "pycharm": {
     "name": "#%%\n"
    }
   }
  },
  {
   "cell_type": "markdown",
   "source": [
    "### Total rows with 90 days survival defined"
   ],
   "metadata": {
    "collapsed": false
   }
  },
  {
   "cell_type": "code",
   "execution_count": 17,
   "outputs": [
    {
     "data": {
      "text/plain": "<IPython.core.display.HTML object>",
      "text/html": "71 367"
     },
     "metadata": {},
     "output_type": "display_data"
    },
    {
     "name": "stdout",
     "output_type": "stream",
     "text": [
      "time: 1.9 ms (started: 2021-03-04 23:22:08 +00:00)\n"
     ]
    }
   ],
   "source": [
    "display_number(len(X_90))"
   ],
   "metadata": {
    "collapsed": false,
    "pycharm": {
     "name": "#%%\n"
    }
   }
  },
  {
   "cell_type": "markdown",
   "source": [
    "### Number of available variable per row histogram (dataset_raw)"
   ],
   "metadata": {
    "collapsed": false
   }
  },
  {
   "cell_type": "code",
   "execution_count": 18,
   "outputs": [
    {
     "data": {
      "text/plain": "<Figure size 432x288 with 1 Axes>",
      "image/png": "[encoded data removed]"
     },
     "metadata": {
      "image/png": {
       "width": 388,
       "height": 248
      }
     },
     "output_type": "display_data"
    },
    {
     "name": "stdout",
     "output_type": "stream",
     "text": [
      "time: 3.05 s (started: 2021-03-04 23:22:08 +00:00)\n"
     ]
    }
   ],
   "source": [
    "dataset_raw.swifter.apply(lambda x: x.count(), axis=1).hist();"
   ],
   "metadata": {
    "collapsed": false,
    "pycharm": {
     "name": "#%%\n"
    }
   }
  },
  {
   "cell_type": "markdown",
   "source": [
    "### Number of available variables per row histogram (final all age groups)"
   ],
   "metadata": {
    "collapsed": false
   }
  },
  {
   "cell_type": "code",
   "execution_count": 19,
   "outputs": [
    {
     "data": {
      "text/plain": "<Figure size 432x288 with 1 Axes>",
      "image/png": "[encoded data removed]"
     },
     "metadata": {
      "image/png": {
       "width": 388,
       "height": 248
      }
     },
     "output_type": "display_data"
    },
    {
     "name": "stdout",
     "output_type": "stream",
     "text": [
      "time: 2.27 s (started: 2021-03-04 23:22:11 +00:00)\n"
     ]
    }
   ],
   "source": [
    "X_365.swifter.apply(lambda x: x.count(), axis=1).hist();"
   ],
   "metadata": {
    "collapsed": false,
    "pycharm": {
     "name": "#%%\n"
    }
   }
  },
  {
   "cell_type": "markdown",
   "source": [
    "## Class balance"
   ],
   "metadata": {
    "collapsed": false
   }
  },
  {
   "cell_type": "markdown",
   "source": [
    "### 365 days survival"
   ],
   "metadata": {
    "collapsed": false
   }
  },
  {
   "cell_type": "code",
   "execution_count": 20,
   "outputs": [
    {
     "data": {
      "text/plain": "0    59967\n1     8495\ndtype: int64"
     },
     "execution_count": 20,
     "metadata": {},
     "output_type": "execute_result"
    },
    {
     "name": "stdout",
     "output_type": "stream",
     "text": [
      "time: 4.57 ms (started: 2021-03-04 23:22:13 +00:00)\n"
     ]
    }
   ],
   "source": [
    "y_365.value_counts()"
   ],
   "metadata": {
    "collapsed": false,
    "pycharm": {
     "name": "#%%\n"
    }
   }
  },
  {
   "cell_type": "markdown",
   "source": [
    "### 90 days survival"
   ],
   "metadata": {
    "collapsed": false
   }
  },
  {
   "cell_type": "code",
   "execution_count": 21,
   "outputs": [
    {
     "data": {
      "text/plain": "0    65796\n1     5571\ndtype: int64"
     },
     "execution_count": 21,
     "metadata": {},
     "output_type": "execute_result"
    },
    {
     "name": "stdout",
     "output_type": "stream",
     "text": [
      "time: 3.38 ms (started: 2021-03-04 23:22:13 +00:00)\n"
     ]
    }
   ],
   "source": [
    "y_90.value_counts()"
   ],
   "metadata": {
    "collapsed": false,
    "pycharm": {
     "name": "#%%\n"
    }
   }
  },
  {
   "cell_type": "markdown",
   "source": [
    "## Features\n",
    "\n",
    "> left: input\n",
    ">\n",
    "> ⬇\n",
    ">\n",
    "> center: preprocessed / omitted\n",
    ">\n",
    "> ⬇\n",
    ">\n",
    "> right: log / omitted"
   ],
   "metadata": {
    "collapsed": false
   }
  },
  {
   "cell_type": "code",
   "execution_count": null,
   "outputs": [],
   "source": [
    "from notebooks.heart_transplant.dependencies.heart_transplant_metadata import heart_transplant_metadata as metadata\n",
    "from matplotlib import pyplot\n",
    "\n",
    "X_365_reverse_log = reverse_log_transform_dataset(X_365)\n",
    "\n",
    "for index, (feature_name, series) in enumerate(dataset_raw.items()):\n",
    "\n",
    "    fig, ax = pyplot.subplots(1, 3, figsize=(5, 2))\n",
    "\n",
    "    try:\n",
    "        series.sample(frac=0.1).hist(grid=False, ax=ax[0])\n",
    "    except Exception as e:\n",
    "        print(e)\n",
    "\n",
    "    log_feature_name = f'log_{feature_name}'\n",
    "\n",
    "    try:\n",
    "        X_365_reverse_log[feature_name]\n",
    "    except KeyError:\n",
    "        ax[1].axis(\"off\")\n",
    "    else:\n",
    "        X_365_reverse_log[feature_name].loc[X_365.index].sample(frac=0.1).hist(\n",
    "            grid=False, ax=ax[1]\n",
    "        )\n",
    "\n",
    "    try:\n",
    "        X_365[log_feature_name]\n",
    "    except KeyError:\n",
    "        ax[2].axis(\"off\")\n",
    "    else:\n",
    "        X_365[log_feature_name].loc[X_365.index].sample(frac=0.1).hist(\n",
    "            grid=False, ax=ax[2]\n",
    "        )\n",
    "\n",
    "    metadata_item = metadata.get(feature_name)\n",
    "\n",
    "    if log_feature_name in X_365:\n",
    "        target_feature_name = log_feature_name\n",
    "    else:\n",
    "        target_feature_name = feature_name\n",
    "\n",
    "    try:\n",
    "        display_name = f'{metadata_item[\"name_long\"]} ({target_feature_name})'\n",
    "    except (KeyError, TypeError):\n",
    "        display_name = f'{target_feature_name}'\n",
    "\n",
    "    print(f'{index + 1}. {display_name}')\n",
    "    fig.tight_layout()\n",
    "    display(fig)\n",
    "    pyplot.close()\n",
    "\n",
    "print()"
   ],
   "metadata": {
    "collapsed": false,
    "pycharm": {
     "name": "#%%\n",
     "is_executing": true
    }
   }
  },
  {
   "cell_type": "markdown",
   "source": [
    "## Death-year relationship\n"
   ],
   "metadata": {
    "collapsed": false
   }
  },
  {
   "cell_type": "code",
   "source": [
    "def set_x_ticks():\n",
    "    plt.xticks([*range(int(dataset_raw['tx_year'].min()), int(dataset_raw['tx_year'].max()), 3),\n",
    "                int(dataset_raw['tx_year'].max())])\n",
    "\n",
    "\n",
    "pyplot.title('Total deaths per year')\n",
    "dataset_raw['death'].groupby(dataset_raw['tx_year']).sum().plot()\n",
    "pyplot.setp(pyplot.gca().get_xticklabels(), rotation=30, horizontalalignment='right')\n",
    "set_x_ticks()\n",
    "pyplot.show()\n",
    "\n",
    "pyplot.title('Total transplant per year')\n",
    "dataset_raw['death'].groupby(dataset_raw['tx_year']).count().plot()\n",
    "pyplot.setp(pyplot.gca().get_xticklabels(), rotation=30, horizontalalignment='right')\n",
    "plt.xticks([*range(int(dataset_raw['tx_year'].min()), int(dataset_raw['tx_year'].max()), 3),\n",
    "            int(dataset_raw['tx_year'].max())])\n",
    "\n",
    "pyplot.show()\n",
    "\n"
   ],
   "metadata": {
    "collapsed": false,
    "pycharm": {
     "name": "#%%\n",
     "is_executing": true
    }
   },
   "execution_count": null,
   "outputs": []
  },
  {
   "cell_type": "code",
   "execution_count": null,
   "outputs": [],
   "source": [
    "import matplotlib as mpl\n",
    "from matplotlib import pyplot as plt\n",
    "\n",
    "grouped = dataset_raw['death'].groupby(dataset_raw['tx_year'])\n",
    "pyplot.title('Percentage of mortality at any moment')\n",
    "(grouped.sum() / grouped.count() * 100).plot()\n",
    "\n",
    "plt.setp(pyplot.gca().get_xticklabels(), rotation=30, horizontalalignment='right')\n",
    "plt.xticks([*range(int(dataset_raw['tx_year'].min()), int(dataset_raw['tx_year'].max()), 3),\n",
    "            int(dataset_raw['tx_year'].max())])\n",
    "plt.gca().yaxis.set_major_formatter(mpl.ticker.PercentFormatter())\n",
    "\n",
    "pyplot.show()\n",
    "\n",
    "grouped = y_365.groupby(dataset_raw['tx_year'])\n",
    "pyplot.title('Percentage of 1-year mortality')\n",
    "(grouped.sum() / grouped.count() * 100).plot()\n",
    "\n",
    "plt.setp(pyplot.gca().get_xticklabels(), rotation=30, horizontalalignment='right')\n",
    "plt.xticks([*range(int(dataset_raw['tx_year'].min()), int(dataset_raw['tx_year'].max()), 3),\n",
    "            int(dataset_raw['tx_year'].max())])\n",
    "plt.gca().yaxis.set_major_formatter(mpl.ticker.PercentFormatter())\n",
    "\n",
    "pyplot.show()"
   ],
   "metadata": {
    "collapsed": false,
    "pycharm": {
     "name": "#%%\n",
     "is_executing": true
    }
   }
  }
 ],
 "metadata": {
  "kernelspec": {
   "display_name": "Python 3",
   "language": "python",
   "name": "python3"
  }
 },
 "nbformat": 4,
 "nbformat_minor": 4
}