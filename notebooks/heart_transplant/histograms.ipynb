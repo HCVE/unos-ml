{
 "cells": [
  {
   "cell_type": "code",
   "execution_count": null,
   "metadata": {},
   "outputs": [],
   "source": [
    "import warnings\n",
    "%cd ~/projects/cardiovascular-risk/\n",
    "warnings.filterwarnings('ignore')\n",
    "%load_ext autoreload\n",
    "%load_ext rpy2.ipython\n",
    "\n",
    "%load_ext ipycache\n",
    "%autoreload 2\n",
    "\n",
    "# these are the defaults we want to set:\n",
    "default_units = 'in' # inch, to make it more easily comparable to matpplotlib\n",
    "default_res = 200 # dpi, same as default in matplotlib\n",
    "default_width = 15\n",
    "default_height = 8\n",
    "# try monkey-patching a function in rpy2, so we effectively get these\n",
    "# default settings for the width, height, and units arguments of the %R magic command\n",
    "import rpy2\n",
    "old_setup_graphics = rpy2.ipython.rmagic.RMagics.setup_graphics\n",
    "\n",
    "def new_setup_graphics(self, args):\n",
    "    if getattr(args, 'units') is not None:\n",
    "        if args.units != default_units: # a different units argument was passed, do not apply defaults\n",
    "            return old_setup_graphics(self, args)\n",
    "    args.units = default_units\n",
    "    if getattr(args, 'res') is None:\n",
    "        args.res = default_res\n",
    "    if getattr(args, 'width') is None:\n",
    "        args.width = default_width\n",
    "    if getattr(args, 'height') is None:\n",
    "        args.height = default_height        \n",
    "    return old_setup_graphics(self, args)\n",
    "\n",
    "rpy2.ipython.rmagic.RMagics.setup_graphics = new_setup_graphics"
   ]
  },
  {
   "cell_type": "markdown",
   "metadata": {},
   "source": [
    "## Loading data"
   ]
  },
  {
   "cell_type": "code",
   "execution_count": null,
   "metadata": {},
   "outputs": [],
   "source": [
    "%%R\n",
    "\n",
    "rm(list = ls())\n",
    "setwd('~/projects/cardiovascular-risk/')\n",
    "Heart <- read.csv(\"../cardiovascular-risk-data/data/UNOS.csv\")\n"
   ]
  },
  {
   "cell_type": "markdown",
   "metadata": {},
   "source": [
    "## Function definition"
   ]
  },
  {
   "cell_type": "code",
   "execution_count": null,
   "metadata": {},
   "outputs": [],
   "source": [
    "%%R\n",
    "\n",
    "\n",
    "###########\n",
    "#functions#\n",
    "###########\n",
    "par(mfrow = c(1, 1))\n",
    "\n",
    "barsum <- function(x, title) {\n",
    "  barplot(table(x), col = \"royalblue3\", main = title, res=2000)\n",
    "}\n",
    "\n",
    "histsum <- function(x, title) {\n",
    "  N <- length(x)\n",
    "  x <- na.omit(x)\n",
    "  m <- mean(x)\n",
    "  std <- sqrt(var(x))\n",
    "  lh <- quantile(x, probs = 0.25)\n",
    "  uh <- quantile(x, probs = 0.75)\n",
    "  step <- 1.5 * (uh - lh)\n",
    "  outlier <- x < lh - step | x > uh + step\n",
    "  #hist(x[!outlier], col = \"royalblue3\", ylab = \"probability\", probability = TRUE)\n",
    "  #h = sd(x)*(4/3/length(x))^(1/5)\n",
    "  #lines(density(x[!outlier],bw = h), col = \"red\")\n",
    "  #curve(dnorm(x,mean=m,sd=std),col =\"green\",add = TRUE)\n",
    "  hist(x, col = \"royalblue3\", ylab = \"probability\", probability = TRUE, main = title)\n",
    "  h <- sd(x) * (4 / 3 / length(x))^(1 / 5)\n",
    "  lines(density(x, bw = h), col = \"red\")\n",
    "  curve(dnorm(x, mean = m, sd = std), col = \"green\", add = TRUE)\n",
    "  rug(x)\n",
    "}\n",
    "\n",
    "histsumoutlier <- function(x) {\n",
    "  N <- length(x)\n",
    "  x <- na.omit(x)\n",
    "  m <- mean(x)\n",
    "  std <- sqrt(var(x))\n",
    "  lh <- quantile(x, probs = 0.25)\n",
    "  uh <- quantile(x, probs = 0.75)\n",
    "  step <- 1.5 * (uh - lh)\n",
    "  outlier <- x < lh - step | x > uh + step\n",
    "  hist(x[!outlier], col = \"royalblue3\", ylab = \"probability\", probability = TRUE)\n",
    "  h <- sd(x) * (4 / 3 / length(x))^(1 / 5)\n",
    "  lines(density(x[!outlier], bw = h), col = \"red\")\n",
    "  curve(dnorm(x, mean = m, sd = std), col = \"green\", add = TRUE)\n",
    "  rug(x)\n",
    "  print(N - length(x))\n",
    "}"
   ]
  },
  {
   "cell_type": "markdown",
   "metadata": {},
   "source": [
    "## Histograms"
   ]
  },
  {
   "cell_type": "code",
   "execution_count": null,
   "metadata": {},
   "outputs": [],
   "source": [
    "%%R\n",
    "###########\n",
    "#diagnosis#\n",
    "###########\n",
    "barsum(Heart$thoracic_dgn, 'thoracic_dgn-not neeeded')\n",
    "#not needed, only look at diag"
   ]
  },
  {
   "cell_type": "code",
   "execution_count": null,
   "metadata": {},
   "outputs": [],
   "source": [
    "%%R\n",
    "\n",
    "########\n",
    "#gender#\n",
    "########\n",
    "barsum(Heart$gender, 'gender')"
   ]
  },
  {
   "cell_type": "code",
   "execution_count": null,
   "metadata": {},
   "outputs": [],
   "source": [
    "%%R\n",
    "\n",
    "############\n",
    "#bloodgroup#\n",
    "############\n",
    "barsum(Heart$abo, 'blood group')\n",
    "# Z=\"unknown\""
   ]
  },
  {
   "cell_type": "code",
   "execution_count": null,
   "metadata": {},
   "outputs": [],
   "source": [
    "%%R\n",
    "\n",
    "#weight recipient#\n",
    "histsum(Heart$wgt_kg_tcr, 'weight recipient')\n",
    "logwgt <- log10(Heart$wgt_kg_tcr)\n",
    "histsum(logwgt, 'log weight recipient')\n",
    "#3969 missing values <15%\n",
    "#logtransform, multimodal\n",
    "#group adults, group babies"
   ]
  },
  {
   "cell_type": "code",
   "execution_count": null,
   "metadata": {},
   "outputs": [],
   "source": [
    "%%R\n",
    "\n",
    "#height recipient\n",
    "histsum(Heart$hgt_cm_tcr, 'height recipient')\n",
    "loghgt <- log10(Heart$hgt_cm_tcr)\n",
    "histsum(loghgt, 'log height recipient')\n",
    "#4933 missing values <15%\n",
    "#logtransform"
   ]
  },
  {
   "cell_type": "code",
   "execution_count": null,
   "metadata": {},
   "outputs": [],
   "source": [
    "%%R\n",
    "\n",
    "#intra-aortic blood pump\n",
    "barsum(Heart$iabp_tcr, 'intra-aortic blood pump')"
   ]
  },
  {
   "cell_type": "code",
   "execution_count": null,
   "metadata": {},
   "outputs": [],
   "source": [
    "%%R\n",
    "\n",
    "#inotropica\n",
    "barsum(Heart$inotropes_tcr, 'inotropica')"
   ]
  },
  {
   "cell_type": "code",
   "execution_count": null,
   "metadata": {},
   "outputs": [],
   "source": [
    "%%R\n",
    "\n",
    "#functional status at listing recipient\n",
    "barsum(Heart$func_stat_tcr, 'functional status at listing recipient')\n",
    "#1-3 = DAL assistance needed? 996= not applicable, 998 = unknown\n",
    "#'20##': percentage function in adults\n",
    "#'40##': percentage function in children\n",
    "#2640 missing"
   ]
  },
  {
   "cell_type": "code",
   "execution_count": null,
   "metadata": {},
   "outputs": [],
   "source": [
    "%%R\n",
    "\n",
    "#functional status at transplant recipient\n",
    "barsum(Heart$func_stat_trr, 'functional status at transplant recipient')\n",
    "#1-3 = DAL assistance needed? 996= not applicable, 998 = unknown\n",
    "#'20##': percentage function in adults\n",
    "#'40##': percentage function in children\n",
    "#62472 missing (vs TCR?)"
   ]
  },
  {
   "cell_type": "code",
   "execution_count": null,
   "metadata": {},
   "outputs": [],
   "source": [
    "%%R\n",
    "\n",
    "#diabetes\n",
    "barsum(Heart$diab, 'diabetes')\n",
    "#usually subdivision in type 1 and type 2 diabetes\n",
    "#possible subdivison: 1 = no diabetes, 2 = diabetes I, 3 = diabetes II, 998 = unknown, 2/4 ???\n",
    "#4 = type other, 5 = type unknown 998 = unknown\n",
    "#45888 missing"
   ]
  },
  {
   "cell_type": "code",
   "execution_count": null,
   "metadata": {},
   "outputs": [],
   "source": [
    "%%R\n",
    "\n",
    "#cerebrovascular disease\n",
    "barsum(Heart$cereb_vasc, 'cerebrovascular disease')\n",
    "#possible subdivision N = no CVD, Y = CVD, U = unknown, 46483 missing?\n",
    "#46483 missing"
   ]
  },
  {
   "cell_type": "code",
   "execution_count": null,
   "metadata": {},
   "outputs": [],
   "source": [
    "%%R\n",
    "\n",
    "#most recent creatinine (kidney function)\n",
    "histsum(Heart$most_rcnt_creat, 'most recent creatinine (kidney function)')\n",
    "logcreat <- log10(Heart$most_rcnt_creat)\n",
    "histsum(logcreat, 'log most recent creatinine (kidney function)')\n",
    "#72569 missing > 15%\n",
    "#logtransform"
   ]
  },
  {
   "cell_type": "code",
   "execution_count": null,
   "metadata": {},
   "outputs": [],
   "source": [
    "%%R\n",
    "\n",
    "#serum albumine\n",
    "histsum(Heart$tot_serum_album, 'serum albumine')\n",
    "#99944 missing > 15%"
   ]
  },
  {
   "cell_type": "code",
   "execution_count": null,
   "metadata": {},
   "outputs": [],
   "source": [
    "%%R\n",
    "\n",
    "#sudden death\n",
    "barsum(Heart$sud_death, 'sudden death')\n",
    "#possible subdivision N = no, Y = yes, U = unknown, 92957 missing data\n",
    "#92957 missing"
   ]
  },
  {
   "cell_type": "code",
   "execution_count": null,
   "metadata": {},
   "outputs": [],
   "source": [
    "%%R\n",
    "\n",
    "#defibrillator in recipient\n",
    "barsum(Heart$impl_defibril, 'defibrillator in recipient')\n",
    "#possible subdivision N = no, Y = yes, U = unknown, 45923 missing data\n",
    "#45923 missing"
   ]
  },
  {
   "cell_type": "code",
   "execution_count": null,
   "metadata": {},
   "outputs": [],
   "source": [
    "%%R\n",
    "\n",
    "#systolic pulmonary pressure recipient (mmHg)\n",
    "histsum(Heart$hemo_sys_tcr, 'systolic pulmonary pressure recipient (mmHg)')\n",
    "#59366 missing > 15%"
   ]
  },
  {
   "cell_type": "code",
   "execution_count": null,
   "metadata": {},
   "outputs": [],
   "source": [
    "%%R\n",
    "\n",
    "#diastolic pulmonary pressure recipient (mmHg)\n",
    "histsum(Heart$hemo_pa_dia_tcr, 'diastolic pulmonary pressure recipient (mmHg)')\n",
    "#59573 missing > 15%"
   ]
  },
  {
   "cell_type": "code",
   "execution_count": null,
   "metadata": {},
   "outputs": [],
   "source": [
    "%%R\n",
    "\n",
    "#mean pulmonary pressure recipient (mmHg)\n",
    "histsum(Heart$hemo_pa_mn_tcr, 'mean pulmonary pressure recipient (mmHg)')\n",
    "#61370 missing >15%"
   ]
  },
  {
   "cell_type": "code",
   "execution_count": null,
   "metadata": {},
   "outputs": [],
   "source": [
    "%%R\n",
    "\n",
    "#mean pulmonary wedge pressure recipient (mmHg)\n",
    "histsum(Heart$hemo_pcw_tcr, 'mean pulmonary wedge pressure recipient (mmHg)')\n",
    "#64146 missing >15%"
   ]
  },
  {
   "cell_type": "code",
   "execution_count": null,
   "metadata": {},
   "outputs": [],
   "source": [
    "%%R\n",
    "\n",
    "#cardiac output recipient (L/min)\n",
    "histsum(Heart$hemo_co_tcr, 'cardiac output recipient (L/min)')\n",
    "#64872 missing >15%"
   ]
  },
  {
   "cell_type": "code",
   "execution_count": null,
   "metadata": {},
   "outputs": [],
   "source": [
    "%%R\n",
    "\n",
    "# cigarette use recipient\n",
    "barsum(Heart$cig_use, ' cigarette use recipient')\n",
    "#possible N = no, Y = yes\n",
    "#89926 missing"
   ]
  },
  {
   "cell_type": "code",
   "execution_count": null,
   "metadata": {},
   "outputs": [],
   "source": [
    "%%R\n",
    "\n",
    "#prior cardiac surgery recipient\n",
    "barsum(Heart$prior_card_surg_tcr, 'prior cardiac surgery recipient')\n",
    "#possible subdivision N = no, Y = yes, U = unknown,\n",
    "#6748 missing data"
   ]
  },
  {
   "cell_type": "code",
   "execution_count": null,
   "metadata": {},
   "outputs": [],
   "source": [
    "%%R\n",
    "\n",
    "#prior cardiac surgery recipient type\n",
    "barsum(Heart$prior_card_surg_type_tcr, 'prior cardiac surgery recipient type')\n",
    "# 130560 missing, see CARDSURG"
   ]
  },
  {
   "cell_type": "code",
   "execution_count": null,
   "metadata": {},
   "outputs": [],
   "source": [
    "%%R\n",
    "\n",
    "#ethnicity\n",
    "barsum(Heart$ethcat, 'ethnicity')\n",
    "# possible subdivision: 1 = white, 2 = black\n",
    "# 4= hispanic, 5=asian,6=alaska native,\n",
    "#7= native hawaiian,9= multiracial, 998 unknown\n",
    "#447 unknown"
   ]
  },
  {
   "cell_type": "code",
   "execution_count": null,
   "metadata": {},
   "outputs": [],
   "source": [
    "%%R\n",
    "\n",
    "#recipient on ventilation\n",
    "barsum(Heart$ventilator_tcr, 'recipient on ventilation')"
   ]
  },
  {
   "cell_type": "code",
   "execution_count": null,
   "metadata": {},
   "outputs": [],
   "source": [
    "%%R\n",
    "\n",
    "#lvad.ever\n",
    "barsum(Heart$lvad.ever, 'lvad.ever')"
   ]
  },
  {
   "cell_type": "code",
   "execution_count": null,
   "metadata": {},
   "outputs": [],
   "source": [
    "%%R\n",
    "\n",
    "\n",
    "#rvad.ever, right ventricle assist device\n",
    "barsum(Heart$rvad.ever, 'rvad.ever, right ventricle assist device')"
   ]
  },
  {
   "cell_type": "code",
   "execution_count": null,
   "metadata": {},
   "outputs": [],
   "source": [
    "%%R\n",
    "\n",
    "\n",
    "#tah.ever, total artificial heart\n",
    "barsum(Heart$tah.ever, 'tah.ever, total artificial heart')"
   ]
  },
  {
   "cell_type": "code",
   "execution_count": null,
   "metadata": {},
   "outputs": [],
   "source": [
    "%%R\n",
    "\n",
    "\n",
    "#medical condition recipient\n",
    "barsum(Heart$med_cond_trr, 'medical condition recipient')\n",
    "#62159 missing\n",
    "#1 = ICU, 2 = hospital not ICU, 3 = not hospitalized"
   ]
  },
  {
   "cell_type": "code",
   "execution_count": null,
   "metadata": {},
   "outputs": [],
   "source": [
    "%%R\n",
    "\n",
    "#ecmo at transplant\n",
    "barsum(Heart$pstatus, 'ecmo at transplant')\n",
    "#61862 missing"
   ]
  },
  {
   "cell_type": "code",
   "execution_count": null,
   "metadata": {},
   "outputs": [],
   "source": [
    "%%R\n",
    "\n",
    "#creatinine at transplant\n",
    "histsum(Heart$creat_trr, 'creatinine at transplant')\n",
    "logcreat_trr <- log10(Heart$creat_trr)\n",
    "histsum(lncreat_trr, 'log creatinine at transplant')\n",
    "#logtransform\n",
    "#76567 missing >15%"
   ]
  },
  {
   "cell_type": "code",
   "execution_count": null,
   "metadata": {},
   "outputs": [],
   "source": [
    "%%R\n",
    "\n",
    "#dialysis after listing\n",
    "barsum(Heart$dial_after_list, 'dialysis after listing')\n",
    "#possible subdivision N = no, Y = yes, U =unknown, 76083 missing data\n",
    "#76083 missing"
   ]
  },
  {
   "cell_type": "code",
   "execution_count": null,
   "metadata": {},
   "outputs": [],
   "source": [
    "%%R\n",
    "\n",
    "#bilirubine recipient\n",
    "histsum(Heart$tbili, 'bilirubine recipient')\n",
    "logbili <- log10(Heart$tbili)\n",
    "histsum(logbili, 'log bilirubine recipient')\n",
    "#80015 missing >15%"
   ]
  },
  {
   "cell_type": "code",
   "execution_count": null,
   "metadata": {},
   "outputs": [],
   "source": [
    "%%R\n",
    "\n",
    "#blood transfusions since listing\n",
    "barsum(Heart$transfusions, 'blood transfusions since listing')\n",
    "#possible subdivision N = no, Y = yes, U =unknown, 70535 missing data\n",
    "#70535 missing"
   ]
  },
  {
   "cell_type": "code",
   "execution_count": null,
   "metadata": {},
   "outputs": [],
   "source": [
    "%%R\n",
    "\n",
    "#hepatitis b virus core\n",
    "barsum(Heart$hbv_core, 'hepatitis b virus core')\n",
    "#possible subdivision N =negative, ND = not done, P = positive, U = unknown, 72576 missing data\n",
    "#72576 missing"
   ]
  },
  {
   "cell_type": "code",
   "execution_count": null,
   "metadata": {},
   "outputs": [],
   "source": [
    "%%R\n",
    "\n",
    "#hepatitis b virus surface antigen\n",
    "barsum(Heart$hbv_sur_antigen, 'hepatitis b virus surface antigen')\n",
    "#possible subdivision N =negative, ND = not done, P = positive, U = unknown, 72576 missing data\n",
    "#missing 72576"
   ]
  },
  {
   "cell_type": "code",
   "execution_count": null,
   "metadata": {},
   "outputs": [],
   "source": [
    "%%R\n",
    "\n",
    "#cmv status\n",
    "barsum(Heart$cmv_status, 'cmv status')\n",
    "#possible subdivision N =negative, ND = not done, P = positive, U = unknown, 71784 missing data\n",
    "#71784 missing"
   ]
  },
  {
   "cell_type": "code",
   "execution_count": null,
   "metadata": {},
   "outputs": [],
   "source": [
    "%%R\n",
    "\n",
    "#cmv igg\n",
    "barsum(Heart$cmv_igg, 'cmv igg')\n",
    "#possible subdivision N =negative, ND = not done, P = positive, U = unknown, 83452 missing data\n",
    "#83452 missing"
   ]
  },
  {
   "cell_type": "code",
   "execution_count": null,
   "metadata": {},
   "outputs": [],
   "source": [
    "%%R\n",
    "\n",
    "#cmv igm\n",
    "barsum(Heart$cmv_igm, 'cmv igm')\n",
    "#possible subdivision N =negative, ND = not done, P = positive, U = unknown, 83454 missing data\n",
    "#83454 missing"
   ]
  },
  {
   "cell_type": "code",
   "execution_count": null,
   "metadata": {},
   "outputs": [],
   "source": [
    "%%R\n",
    "\n",
    "#hiv status\n",
    "barsum(Heart$hiv_serostatus, 'hiv status')\n",
    "#possible subdivision N =negative, ND = not done, P = positive, U = unknown, 71795 missing data\n",
    "#71795 missing"
   ]
  },
  {
   "cell_type": "code",
   "execution_count": null,
   "metadata": {},
   "outputs": [],
   "source": [
    "%%R\n",
    "\n",
    "#hcv_serostatus\n",
    "barsum(Heart$hcv_serostatus, 'hcv_serostatus')\n",
    "#possible subdivision N =negative, ND = not done, P = positive, U = unknown, 72871 missing data\n",
    "#72871 missing"
   ]
  },
  {
   "cell_type": "code",
   "execution_count": null,
   "metadata": {},
   "outputs": [],
   "source": [
    "%%R\n",
    "\n",
    "#ebv_serostatus\n",
    "barsum(Heart$ebv_serostatus, 'ebv_serostatus')\n",
    "#possible subdivision N =negative, ND = not done, P = positive, U = unknown, 92569 missing data\n",
    "#92569 missing"
   ]
  },
  {
   "cell_type": "code",
   "execution_count": null,
   "metadata": {},
   "outputs": [],
   "source": [
    "%%R\n",
    "\n",
    "#survival of graft\n",
    "barsum(Heart$gstatus, 'survival of graft')\n",
    "#possible subdivision 0 = death or reimplantation, 1 = survival\n",
    "#61949 missing"
   ]
  },
  {
   "cell_type": "code",
   "execution_count": null,
   "metadata": {},
   "outputs": [],
   "source": [
    "%%R\n",
    "\n",
    "#time of graft survival\n",
    "histsum(Heart$gtime, 'time of graft survival')\n",
    "loggtime <- log10(Heart$gtime + 1)\n",
    "histsum(loggtime, 'log time of graft survival')\n",
    "#61949 missing, logtransform"
   ]
  },
  {
   "cell_type": "code",
   "execution_count": null,
   "metadata": {},
   "outputs": [],
   "source": [
    "%%R\n",
    "\n",
    "#survival of patient\n",
    "barsum(Heart$pstatus, 'survival of patient')\n",
    "#possible subdivision 0 = death, 1 = survival\n",
    "#61949 missing"
   ]
  },
  {
   "cell_type": "code",
   "execution_count": null,
   "metadata": {},
   "outputs": [],
   "source": [
    "%%R\n",
    "\n",
    "#time of patient survival\n",
    "histsum(Heart$ptime, 'time of patient survival')\n",
    "logptime <- log10(Heart$ptime + 1)\n",
    "histsum(logptime, 'log time of patient survival')\n",
    "#61949 missing, logtransform"
   ]
  },
  {
   "cell_type": "code",
   "execution_count": null,
   "metadata": {},
   "outputs": [],
   "source": [
    "%%R\n",
    "\n",
    "#status patient?\n",
    "barsum(Heart$px_stat, 'status patient?')\n",
    "#possible subdivision D - dead, A - alive, R - transplanted, L?, 61945 missing data\n",
    "#61945 missing"
   ]
  },
  {
   "cell_type": "code",
   "execution_count": null,
   "metadata": {},
   "outputs": [],
   "source": [
    "%%R\n",
    "\n",
    "#previous transplantation\n",
    "barsum(Heart$prev_tx, 'previous transplantation')\n",
    "#61862 missing data"
   ]
  },
  {
   "cell_type": "code",
   "execution_count": null,
   "metadata": {},
   "outputs": [],
   "source": [
    "%%R\n",
    "\n",
    "#previous transplantation\n",
    "barsum(Heart$prev_tx_any, 'previous transplantation')\n",
    "#61862 missing data"
   ]
  },
  {
   "cell_type": "code",
   "execution_count": null,
   "metadata": {},
   "outputs": [],
   "source": [
    "%%R\n",
    "\n",
    "#history of cocaine use donor\n",
    "barsum(Heart$hist_cocaine_don, 'history of cocaine use donor')\n",
    "#possible subdivision N = no, Y = yes, U =unknown, 61964 missing data\n",
    "#61964 missing"
   ]
  },
  {
   "cell_type": "code",
   "execution_count": null,
   "metadata": {},
   "outputs": [],
   "source": [
    "%%R\n",
    "\n",
    "#age donor\n",
    "histsum(Heart$age_don, 'age donor')\n",
    "logagedon <- log10(Heart$age_don + 1)\n",
    "histsum(logagedon, 'log age donor')\n",
    "#61870 missing, logtransform"
   ]
  },
  {
   "cell_type": "code",
   "execution_count": null,
   "metadata": {},
   "outputs": [],
   "source": [
    "%%R\n",
    "\n",
    "#ethnicity donor\n",
    "barsum(Heart$ethcat_don, 'ethnicity donor')\n",
    "# possible subdivision: 1 = white, 2 = black\n",
    "#4 = hispanic, 5 = asian, 6 = native alaska,\n",
    "#7 = native hawaiiunclear, 9 = multiracial, 998 unknown?\n",
    "#61862 missing"
   ]
  },
  {
   "cell_type": "code",
   "execution_count": null,
   "metadata": {},
   "outputs": [],
   "source": [
    "%%R\n",
    "\n",
    "#hepatitis b virus core donor\n",
    "barsum(Heart$hbv_core_don, 'hepatitis b virus core donor')\n",
    "#possible subdivision N =negative, ND = not done, P = positive, U = unknown, C/I unclear, 76707 missing data\n",
    "#76707 missing\n",
    "#codes unclear"
   ]
  },
  {
   "cell_type": "code",
   "execution_count": null,
   "metadata": {},
   "outputs": [],
   "source": [
    "%%R\n",
    "\n",
    "#hepatitis b virus surface antigen donor\n",
    "barsum(Heart$hbv_sur_antigen_don, 'hepatitis b virus surface antigen donor')\n",
    "#possible subdivision N =negative, ND = not done, P = positive, U = unknown, C/I unclear, 62024 missing data\n",
    "#62024 missing"
   ]
  },
  {
   "cell_type": "code",
   "execution_count": null,
   "metadata": {},
   "outputs": [],
   "source": [
    "%%R\n",
    "\n",
    "#bloodgroup#\n",
    "barsum(Heart$abo_don, 'bloodgroup')"
   ]
  },
  {
   "cell_type": "code",
   "execution_count": null,
   "metadata": {},
   "outputs": [],
   "source": [
    "%%R\n",
    "\n",
    "#heavy alcohol use donor\n",
    "barsum(Heart$alcohol_heavy_don, 'heavy alcohol use donor')\n",
    "#possible subdivision N = no, Y = yes, U =unknown, 106369 missing data\n",
    "#106369 missing"
   ]
  },
  {
   "cell_type": "code",
   "execution_count": null,
   "metadata": {},
   "outputs": [],
   "source": [
    "%%R\n",
    "\n",
    "#gender#\n",
    "barsum(Heart$gender_don, 'gender')\n",
    "#missing data 61863"
   ]
  },
  {
   "cell_type": "code",
   "execution_count": null,
   "metadata": {},
   "outputs": [],
   "source": [
    "%%R\n",
    "\n",
    "#hcv_serostatus donor\n",
    "barsum(Heart$hep_c_anti_don, 'hcv_serostatus donor')\n",
    "#possible subdivision N =negative, ND = not done, P = positive, U = unknown, I = not clear 76715 missing data\n",
    "#76715 missing"
   ]
  },
  {
   "cell_type": "code",
   "execution_count": null,
   "metadata": {},
   "outputs": [],
   "source": [
    "%%R\n",
    "\n",
    "# non heart beating donor\n",
    "barsum(Heart$non_hrt_don, 'non heart beating donor')\n",
    "#76662 missing"
   ]
  },
  {
   "cell_type": "code",
   "execution_count": null,
   "metadata": {},
   "outputs": [],
   "source": [
    "%%R\n",
    "\n",
    "#infection in blood source donor\n",
    "barsum(Heart$blood_inf_don, 'infection in blood source donor')\n",
    "#61905 missing"
   ]
  },
  {
   "cell_type": "code",
   "execution_count": null,
   "metadata": {},
   "outputs": [],
   "source": [
    "%%R\n",
    "\n",
    "#blood urea nitrogen at transplantation in donor\n",
    "histsum(Heart$bun_don, 'blood urea nitrogen at transplantation in donor')\n",
    "logbundon <- log10(Heart$bun_don)\n",
    "histsum(loggbundon, 'log blood urea nitrogen at transplantation in donor')\n",
    "#76931 missing > 15%, logtransform"
   ]
  },
  {
   "cell_type": "code",
   "execution_count": null,
   "metadata": {},
   "outputs": [],
   "source": [
    "%%R\n",
    "\n",
    "#creatinine at transplantation in donor\n",
    "histsum(Heart$creat_don, 'creatinine at transplantation in donor')\n",
    "logcreat_don <- log10(Heart$creat_don)\n",
    "histsum(logcreat_don, 'log creatinine at transplantation in donor')\n",
    "#76921 missing > 15%, logtransform"
   ]
  },
  {
   "cell_type": "code",
   "execution_count": null,
   "metadata": {},
   "outputs": [],
   "source": [
    "%%R\n",
    "\n",
    "#other infection at transplantation in donor\n",
    "barsum(Heart$other_inf_don, 'other infection at transplantation in donor')\n",
    "#119490 missing"
   ]
  },
  {
   "cell_type": "code",
   "execution_count": null,
   "metadata": {},
   "outputs": [],
   "source": [
    "%%R\n",
    "\n",
    "#pulmonary infection at transplantation in donor\n",
    "barsum(Heart$pulm_inf_don, 'pulmonary infection at transplantation in donor')\n",
    "#61905 missing"
   ]
  },
  {
   "cell_type": "code",
   "execution_count": null,
   "metadata": {},
   "outputs": [],
   "source": [
    "%%R\n",
    "\n",
    "#AST at transplantation in donor\n",
    "histsum(Heart$sgot_don, 'AST at transplantation in donor')\n",
    "logsgot_don <- log10(Heart$sgot_don)\n",
    "histsum(logsgot_don, 'log AST at transplantation in donor')\n",
    "#77404 missing >15%, logtransform"
   ]
  },
  {
   "cell_type": "code",
   "execution_count": null,
   "metadata": {},
   "outputs": [],
   "source": [
    "%%R\n",
    "\n",
    "#ALT at transplantation in donor\n",
    "histsum(Heart$sgpt_don, 'ALT at transplantation in donor')\n",
    "logsgpt_don <- log10(Heart$sgpt_don)\n",
    "histsum(logsgpt_don, 'log ALT at transplantation in donor')\n",
    "#77872 missing >15%, logtransform"
   ]
  },
  {
   "cell_type": "code",
   "execution_count": null,
   "metadata": {},
   "outputs": [],
   "source": [
    "%%R\n",
    "\n",
    "#bilirubine at transplantation in donor\n",
    "histsum(Heart$tbili_don, 'bilirubine at transplantation in donor')\n",
    "logtbili_don <- log10(Heart$tbili_don + 1)\n",
    "histsum(logtbili_don, 'log bilirubine at transplantation in donor')\n",
    "#77621 missing >15%, logtransform"
   ]
  },
  {
   "cell_type": "code",
   "execution_count": null,
   "metadata": {},
   "outputs": [],
   "source": [
    "%%R\n",
    "\n",
    "#urinal infection at transplantation in donor\n",
    "barsum(Heart$urine_inf_don, 'urinal infection at transplantation in donor')\n",
    "#61905 missing"
   ]
  },
  {
   "cell_type": "code",
   "execution_count": null,
   "metadata": {},
   "outputs": [],
   "source": [
    "%%R\n",
    "\n",
    "#vasodilatators at transplantation in donor\n",
    "barsum(Heart$vasodil_don, 'vasodilatators at transplantation in donor')\n",
    "#possible subdivision N = no, Y = yes, U =unknown\n",
    "#76767 missing"
   ]
  },
  {
   "cell_type": "code",
   "execution_count": null,
   "metadata": {},
   "outputs": [],
   "source": [
    "%%R\n",
    "\n",
    "#RPR-VDRL SEROLOGY at transplantation in donor\n",
    "barsum(Heart$vdrl_don, 'RPR-VDRL SEROLOGY at transplantation in donor')\n",
    "#possible subdivision N =negative, ND = not done, P = positive, U = unknown, death_mech_don\n",
    "#62067 missing"
   ]
  },
  {
   "cell_type": "code",
   "execution_count": null,
   "metadata": {},
   "outputs": [],
   "source": [
    "%%R\n",
    "\n",
    "#clinical infection at transplantation in donor\n",
    "barsum(Heart$clin_infect_don, 'clinical infection at transplantation in donor')\n",
    "#possible subdivision N = no, Y = yes, U =unknown\n",
    "#76768 missing"
   ]
  },
  {
   "cell_type": "code",
   "execution_count": null,
   "metadata": {},
   "outputs": [],
   "source": [
    "%%R\n",
    "\n",
    "#cocaine use in last 6 months in donor\n",
    "barsum(Heart$contin_cocaine_don, 'cocaine use in last 6 months in donor')\n",
    "#possible subdivision N = no, Y = yes, U =unknown\n",
    "#145405 missing"
   ]
  },
  {
   "cell_type": "code",
   "execution_count": null,
   "metadata": {},
   "outputs": [],
   "source": [
    "%%R\n",
    "\n",
    "#other drug use in last 6 months in donor\n",
    "barsum(Heart$contin_oth_drug_don, 'other drug use in last 6 months in donor')\n",
    "#possible subdivision N = no, Y = yes, U =unknown\n",
    "#116064 missing"
   ]
  },
  {
   "cell_type": "code",
   "execution_count": null,
   "metadata": {},
   "outputs": [],
   "source": [
    "%%R\n",
    "\n",
    "#extracranial cancer in donor at transplantation\n",
    "barsum(Heart$extracranial_cancer_don, 'extracranial cancer in donor at transplantation')\n",
    "#possible subdivision N = no, Y = yes, U =unknown\n",
    "#76876 missing"
   ]
  },
  {
   "cell_type": "code",
   "execution_count": null,
   "metadata": {},
   "outputs": [],
   "source": [
    "%%R\n",
    "\n",
    "#history of alcohol in donor\n",
    "barsum(Heart$hist_alcohol_old_don, 'history of alcohol in donor')\n",
    "#possible subdivision N = no, Y = yes, U =unknown\n",
    "#123356 missing"
   ]
  },
  {
   "cell_type": "code",
   "execution_count": null,
   "metadata": {},
   "outputs": [],
   "source": [
    "%%R\n",
    "\n",
    "#site of cancer in donor\n",
    "barsum(Heart$cancer_site_don, 'site of cancer in donor')\n",
    "#possible subdivision 1 = no cancer, cancer_site_don\n",
    "#missing 76846"
   ]
  },
  {
   "cell_type": "code",
   "execution_count": null,
   "metadata": {},
   "outputs": [],
   "source": [
    "%%R\n",
    "\n",
    "#history of cigarettes abuse in donor\n",
    "barsum(Heart$hist_cig_don, 'history of cigarettes abuse in donor')\n",
    "#possible subdivision N = no, Y = yes, U =unknown\n",
    "#76731 missing"
   ]
  },
  {
   "cell_type": "code",
   "execution_count": null,
   "metadata": {},
   "outputs": [],
   "source": [
    "%%R\n",
    "\n",
    "#history of hypertension in donor\n",
    "barsum(Heart$hist_hypertens_don, 'history of hypertension in donor')\n",
    "#possible subdivision N = no, Y = yes, U =unknown\n",
    "#76734 missing"
   ]
  },
  {
   "cell_type": "code",
   "execution_count": null,
   "metadata": {},
   "outputs": [],
   "source": [
    "%%R\n",
    "\n",
    "#history of IV drugs in donor\n",
    "barsum(Heart$hist_iv_drug_old_don, 'history of IV drugs in donor')\n",
    "#possible subdivision N = no, Y = yes, U =unknown\n",
    "#123371 missing"
   ]
  },
  {
   "cell_type": "code",
   "execution_count": null,
   "metadata": {},
   "outputs": [],
   "source": [
    "%%R\n",
    "\n",
    "#intracranial cancer in donor at transplantation\n",
    "barsum(Heart$intracranial_cancer_don, 'intracranial cancer in donor at transplantation')\n",
    "#possible subdivision N = no, Y = yes, U =unknown\n",
    "#76876 missing"
   ]
  },
  {
   "cell_type": "code",
   "execution_count": null,
   "metadata": {},
   "outputs": [],
   "source": [
    "%%R\n",
    "\n",
    "#history of cancer in donor\n",
    "barsum(Heart$hist_cancer_don, 'history of cancer in donor')\n",
    "#possible subdivision N = no, Y = yes, U =unknown\n",
    "#76846 missing"
   ]
  },
  {
   "cell_type": "code",
   "execution_count": null,
   "metadata": {},
   "outputs": [],
   "source": [
    "%%R\n",
    "\n",
    "#insulin dependence in donor\n",
    "barsum(Heart$donor.insulin, 'insulin dependence in donor')\n",
    "#possible subdivision N = no, Y = yes\n",
    "#76742 missing"
   ]
  },
  {
   "cell_type": "code",
   "execution_count": null,
   "metadata": {},
   "outputs": [],
   "source": [
    "%%R\n",
    "\n",
    "#diabetes in donor\n",
    "barsum(Heart$diabetes_don, 'diabetes in donor')\n",
    "#possible subdivision N = no, Y = yes, U =unknown\n",
    "#76742 missing"
   ]
  },
  {
   "cell_type": "code",
   "execution_count": null,
   "metadata": {},
   "outputs": [],
   "source": [
    "%%R\n",
    "\n",
    "#history of other drug abuse in donor\n",
    "barsum(Heart$hist_oth_drug_don, 'history of other drug abuse in donor')\n",
    "#possible subdivision N = no, Y = yes, U =unknown\n",
    "#76766 missing"
   ]
  },
  {
   "cell_type": "code",
   "execution_count": null,
   "metadata": {},
   "outputs": [],
   "source": [
    "%%R\n",
    "\n",
    "#skin cancer in donor at transplantation\n",
    "barsum(Heart$skin_cancer_don, 'skin cancer in donor at transplantation')\n",
    "#possible subdivision N = no, Y = yes, U =unknown\n",
    "#76876 missing"
   ]
  },
  {
   "cell_type": "code",
   "execution_count": null,
   "metadata": {},
   "outputs": [],
   "source": [
    "%%R\n",
    "\n",
    "#cmv infection in donor\n",
    "barsum(Heart$cmv_don, 'cmv infection in donor')\n",
    "#possible subdivision N =negative, ND = not done, P = positive, U = unknown, C/I unclear\n",
    "#62052 missing"
   ]
  },
  {
   "cell_type": "code",
   "execution_count": null,
   "metadata": {},
   "outputs": [],
   "source": [
    "%%R\n",
    "\n",
    "#donor cause of death\n",
    "barsum(Heart$cod_cad_don, 'donor cause of death')\n",
    "#62013 missing, codes missing"
   ]
  },
  {
   "cell_type": "code",
   "execution_count": null,
   "metadata": {},
   "outputs": [],
   "source": [
    "%%R\n",
    "\n",
    "#death_mech_don\n",
    "barsum(Heart$death_mech_don, 'death_mech_don')\n",
    "#colv_eject_meth\n",
    "#62022 missing"
   ]
  },
  {
   "cell_type": "code",
   "execution_count": null,
   "metadata": {},
   "outputs": [],
   "source": [
    "%%R\n",
    "\n",
    "#calculated donor height donor\n",
    "histsum(Heart$hgt_cm_don_calc, 'calculated donor height donor')\n",
    "loghgtdon <- log10(Heart$hgt_cm_don_calc)\n",
    "histsum(loghgtdon, 'log calculated donor height donor')\n",
    "#71170 missing >15%, logtransform"
   ]
  },
  {
   "cell_type": "code",
   "execution_count": null,
   "metadata": {},
   "outputs": [],
   "source": [
    "%%R\n",
    "\n",
    "#calculated donor weight donor\n",
    "histsum(Heart$wgt_kg_don_calc, 'calculated donor weight donor')\n",
    "logwgtdon <- log10(Heart$wgt_kg_don_calc)\n",
    "histsum(logwgtdon, 'log calculated donor weight donor')\n",
    "#65656 missing >15%, logtransform"
   ]
  },
  {
   "cell_type": "code",
   "execution_count": null,
   "metadata": {},
   "outputs": [],
   "source": [
    "%%R\n",
    "\n",
    "#calculated BMI donor\n",
    "histsum(Heart$bmi_don_calc, 'calculated BMI donor')\n",
    "#71235 missing > 15%"
   ]
  },
  {
   "cell_type": "code",
   "execution_count": null,
   "metadata": {},
   "outputs": [],
   "source": [
    "%%R\n",
    "\n",
    "#multiorgan transplant\n",
    "barsum(Heart$multiorg, 'multiorgan transplant')"
   ]
  },
  {
   "cell_type": "code",
   "execution_count": null,
   "metadata": {},
   "outputs": [],
   "source": [
    "%%R\n",
    "\n",
    "#transplant match in bloodgroup\n",
    "barsum(Heart$abo_mat, 'transplant match in bloodgroup')\n",
    "#possible subdivision 1 = match, 2 = no match, 3 =unknown; codes needed\n",
    "#61867 missing"
   ]
  },
  {
   "cell_type": "code",
   "execution_count": null,
   "metadata": {},
   "outputs": [],
   "source": [
    "%%R\n",
    "\n",
    "#age recipient\n",
    "histsum(Heart$age, 'age recipient')\n",
    "logage <- log10(Heart$age + 1)\n",
    "histsum(logage, 'log age recipient')\n",
    "#61871 missing >15%, logtransform"
   ]
  },
  {
   "cell_type": "code",
   "execution_count": null,
   "metadata": {},
   "outputs": [],
   "source": [
    "%%R\n",
    "\n",
    "#thoracic diagnosis recipient\n",
    "barsum(Heart$diag, 'thoracic diagnosis recipient')\n",
    "#61864 missing"
   ]
  },
  {
   "cell_type": "code",
   "execution_count": null,
   "metadata": {},
   "outputs": [],
   "source": [
    "%%R\n",
    "\n",
    "#dialysis prior to transplantation\n",
    "barsum(Heart$dial_prior_tx, 'dialysis prior to transplantation')\n",
    "#possible subdivision N = no, Y = yes, U =unknown\n",
    "#80217 missing"
   ]
  },
  {
   "cell_type": "code",
   "execution_count": null,
   "metadata": {},
   "outputs": [],
   "source": [
    "%%R\n",
    "\n",
    "#ischemic time of donor in hours\n",
    "histsum(Heart$ischtime, 'ischemic time of donor in hours')\n",
    "logisch <- log10(Heart$ischtime + 1)\n",
    "histsum(logisch, 'log ischemic time of donor in hours')\n",
    "#2 groups\n",
    "#no missing, logtransform"
   ]
  },
  {
   "cell_type": "code",
   "execution_count": null,
   "metadata": {},
   "outputs": [],
   "source": [
    "%%R\n",
    "\n",
    "#patient on life support\n",
    "barsum(Heart$life_sup_trr, 'patient on life support')\n",
    "#possible subdivision N = no, Y = yes\n",
    "#62150 missing"
   ]
  },
  {
   "cell_type": "code",
   "execution_count": null,
   "metadata": {},
   "outputs": [],
   "source": [
    "%%R\n",
    "\n",
    "#prior cardiac surgery between listing and transplantation\n",
    "barsum(Heart$prior_card_surg_trr, 'prior cardiac surgery between listing and transplantation')\n",
    "#possible subdivision N = no, Y = yes\n",
    "#66791 missing"
   ]
  },
  {
   "cell_type": "code",
   "execution_count": null,
   "metadata": {},
   "outputs": [],
   "source": [
    "%%R\n",
    "\n",
    "#any previous cancers\n",
    "barsum(Heart$malig, 'any previous cancers')\n",
    "#possible subdivision N = no, Y = yes,U = unknown\n",
    "#61876 missing"
   ]
  },
  {
   "cell_type": "code",
   "execution_count": null,
   "metadata": {},
   "outputs": [],
   "source": [
    "%%R\n",
    "\n",
    "#calculated height recipient in cm\n",
    "histsum(Heart$hgt_cm_calc, 'calculated height recipient in cm')\n",
    "loghgtcalc <- log10(Heart$hgt_cm_calc)\n",
    "histsum(loghgtcalc, 'log calculated height recipient in cm')\n",
    "#62737 missing >15%, logtransform\n",
    "#difference with hgt_cm_tcr?"
   ]
  },
  {
   "cell_type": "code",
   "execution_count": null,
   "metadata": {},
   "outputs": [],
   "source": [
    "%%R\n",
    "\n",
    "#calculated weight recipient in kg\n",
    "histsum(Heart$wgt_kg_calc, 'calculated weight recipient in kg')\n",
    "logwgtcalc <- log10(Heart$wgt_kg_calc)\n",
    "histsum(logwgtcalc, 'log calculated weight recipient in kg')\n",
    "#62516 missing >15%, logtransform\n",
    "#difference with wgt_cm_tcr?"
   ]
  },
  {
   "cell_type": "code",
   "execution_count": null,
   "metadata": {},
   "outputs": [],
   "source": [
    "%%R\n",
    "\n",
    "#calculated BMI recipient\n",
    "histsum(Heart$bmi_calc, 'calculated BMI recipient')\n",
    "#62865 missing >15%"
   ]
  },
  {
   "cell_type": "code",
   "execution_count": null,
   "metadata": {},
   "outputs": [],
   "source": [
    "%%R\n",
    "\n",
    "#distance in miles between donor hospital and transplantation center\n",
    "histsum(Heart$distance, 'distance in miles between donor hospital and transplantation center')\n",
    "logdist <- log10(Heart$distance + 1)\n",
    "histsum(logdist, 'log distance in miles between donor hospital and transplantation center')\n",
    "#63441 missinng >15%, logtransform"
   ]
  },
  {
   "cell_type": "code",
   "execution_count": null,
   "metadata": {},
   "outputs": [],
   "source": [
    "%%R\n",
    "\n",
    "#ventilation support after listing\n",
    "barsum(Heart$vent_support_after_list, 'ventilation support after listing')\n",
    "#possible subdivision N = no, Y = yes,U = unknown\n",
    "#62008 missing"
   ]
  },
  {
   "cell_type": "code",
   "execution_count": null,
   "metadata": {},
   "outputs": [],
   "source": [
    "%%R\n",
    "\n",
    "#proteinuria\n",
    "barsum(Heart$protein_urine, 'proteinuria')\n",
    "#possible subdivision N = no, Y = yes,U = unknown\n",
    "#61964 missing"
   ]
  },
  {
   "cell_type": "code",
   "execution_count": null,
   "metadata": {},
   "outputs": [],
   "source": [
    "%%R\n",
    "\n",
    "#history of previous myocardial infarct\n",
    "barsum(Heart$hist_mi, 'history of previous myocardial infarct')\n",
    "#possible subdivision N = no, Y = yes,U = unknown\n",
    "#62004 missing"
   ]
  },
  {
   "cell_type": "code",
   "execution_count": null,
   "metadata": {},
   "outputs": [],
   "source": [
    "%%R\n",
    "\n",
    "#method measuring left ventricle ejection?; unclear\n",
    "barsum(Heart$lv_eject_meth, 'method measuring left ventricle ejection?; unclear')\n",
    "#94531 missing"
   ]
  },
  {
   "cell_type": "code",
   "execution_count": null,
   "metadata": {},
   "outputs": [],
   "source": [
    "%%R\n",
    "\n",
    "#left ventricle ejection donor\n",
    "histsum(Heart$lv_eject, 'left ventricle ejection donor')\n",
    "#94524 missing >15%\n",
    "#any value under 15% is unreasonably low for a donor heart"
   ]
  },
  {
   "cell_type": "code",
   "execution_count": null,
   "metadata": {},
   "outputs": [],
   "source": [
    "%%R\n",
    "\n",
    "#angiogram in donorheart; unclear\n",
    "barsum(Heart$coronary_angio, 'angiogram in donorheart; unclear')\n",
    "#62352 missing\n",
    "#1 no angio, 2= normal angio, 3= abnormal angio"
   ]
  },
  {
   "cell_type": "code",
   "execution_count": null,
   "metadata": {},
   "outputs": [],
   "source": [
    "%%R\n",
    "\n",
    "#number of vessels with 50% stenosis in donor heart\n",
    "barsum(Heart$vessels_50sten, 'number of vessels with 50% stenosis in donor heart')\n",
    "#85 missing"
   ]
  },
  {
   "cell_type": "code",
   "execution_count": null,
   "metadata": {},
   "outputs": [],
   "source": [
    "%%R\n",
    "\n",
    "#biopsy on donor heart? unclear\n",
    "barsum(Heart$biopsy_dgn, 'biopsy on donor heart? unclear')\n",
    "#66362 missing\n",
    "#retransplant"
   ]
  },
  {
   "cell_type": "code",
   "execution_count": null,
   "metadata": {},
   "outputs": [],
   "source": [
    "%%R\n",
    "\n",
    "#donor tattoos\n",
    "barsum(Heart$tattoos, 'donor tattoos')\n",
    "#possible subdivision N = no, Y = yes,U = unknown\n",
    "#61964 missing"
   ]
  },
  {
   "cell_type": "code",
   "execution_count": null,
   "metadata": {},
   "outputs": [],
   "source": [
    "%%R\n",
    "\n",
    "#IgG for ebv infection in donor\n",
    "barsum(Heart$ebv_igg_cad_don, 'IgG for ebv infection in donor')\n",
    "#possible subdivision N =negative, ND = not done, P = positive, U = unknown, C/I/PD unclear\n",
    "#111213 missing"
   ]
  },
  {
   "cell_type": "code",
   "execution_count": null,
   "metadata": {},
   "outputs": [],
   "source": [
    "%%R\n",
    "\n",
    "#cdc risk factors for blood bourne disease\n",
    "barsum(Heart$cdc_risk_hiv_don, 'cdc risk factors for blood bourne disease')\n",
    "#possible subdivision N =negative, ND = not done, P = positive, U = unknown, C/I/PD unclear\n",
    "#106362 missing"
   ]
  },
  {
   "cell_type": "code",
   "execution_count": null,
   "metadata": {},
   "outputs": [],
   "source": [
    "%%R\n",
    "\n",
    "#Expanded Donor Including Brain Dead and DCD (per Kidney allocation definition)\n",
    "barsum(Heart$ecd_donor, 'Expanded Donor Including Brain Dead and DCD (per Kidney allocation definition)')\n",
    "#76664 missing"
   ]
  },
  {
   "cell_type": "code",
   "execution_count": null,
   "metadata": {},
   "outputs": [],
   "source": [
    "%%R\n",
    "\n",
    "#hematocrit\n",
    "histsum(Heart$hematocrit_don, 'hematocrit')\n",
    "#106662 missing > 15%"
   ]
  },
  {
   "cell_type": "code",
   "execution_count": null,
   "metadata": {},
   "outputs": [],
   "source": []
  },
  {
   "cell_type": "code",
   "execution_count": null,
   "metadata": {},
   "outputs": [],
   "source": [
    "%%R\n",
    "\n",
    "#not in dictionary\n",
    "barsum(Heart$retransplant, 'not in dictionary')\n",
    "#possible: times retransplantation"
   ]
  },
  {
   "cell_type": "code",
   "execution_count": null,
   "metadata": {},
   "outputs": [],
   "source": [
    "%%R\n",
    "\n",
    "#Combined PanelReactiveAantibody from UNOS variables\n",
    "histsum(Heart$newpra, 'Combined PanelReactiveAantibody from UNOS variables')\n",
    "logpra <- log10(Heart$newpra + 1)\n",
    "histsum(logpra, 'log Combined PanelReactiveAantibody from UNOS variables')\n",
    "#correct normalization?\n",
    "#70063 missing"
   ]
  },
  {
   "cell_type": "code",
   "execution_count": null,
   "metadata": {},
   "outputs": [],
   "source": [
    "%%R\n",
    "\n",
    "#education\n",
    "barsum(Heart$education, 'education')\n",
    "#1(GRADE SCHOOL (0-8)) 3(HIGH SCHOOL (9-12) or GED) 4 (ATTENDED COLLEGE/TECHNICAL SCHOOL), 5 (ASSOCIATE/BACHELOR DEGREE), 6 (POST-COLLEGE GRADUATE DEGREE), 996 (N/A), 998 (missing)\n",
    "#27402 missing"
   ]
  },
  {
   "cell_type": "code",
   "execution_count": null,
   "metadata": {},
   "outputs": [],
   "source": [
    "%%R\n",
    "\n",
    "#patient died\n",
    "barsum(Heart$death, 'patient died')\n",
    "#61949 missing\n",
    "#confirmation needed; difference wikth deathr"
   ]
  },
  {
   "cell_type": "code",
   "execution_count": null,
   "metadata": {},
   "outputs": [],
   "source": [
    "%%R\n",
    "\n",
    "#graft status\n",
    "barsum(Heart$deathr, 'graft status')\n",
    "#61949 missing"
   ]
  },
  {
   "cell_type": "code",
   "execution_count": null,
   "metadata": {},
   "outputs": [],
   "source": [
    "%%R\n",
    "\n",
    "#follow up time in days\n",
    "histsum(Heart$futd, 'follow up time in days')\n",
    "logfutd <- log10(Heart$futd + 1)\n",
    "histsum(logfutd, 'log follow up time in days')\n",
    "#61949 missing >15%, logtransform"
   ]
  },
  {
   "cell_type": "code",
   "execution_count": null,
   "metadata": {},
   "outputs": [],
   "source": [
    "%%R\n",
    "\n",
    "#follow up time in years\n",
    "histsum(Heart$futdy, 'follow up time in years')\n",
    "logfutdy <- log10(Heart$futdy + 1)\n",
    "histsum(logfutdy, 'log follow up time in years')\n",
    "#61949 missing >15%, logtransform"
   ]
  },
  {
   "cell_type": "code",
   "execution_count": null,
   "metadata": {},
   "outputs": [],
   "source": [
    "%%R\n",
    "\n",
    "#height ratio\n",
    "histsum(Heart$Height.ratio, 'height ratio')"
   ]
  },
  {
   "cell_type": "code",
   "execution_count": null,
   "metadata": {},
   "outputs": [],
   "source": [
    "%%R\n",
    "\n",
    "#weight ratio\n",
    "histsum(Heart$weight.ratio, 'weight ratio')"
   ]
  },
  {
   "cell_type": "code",
   "execution_count": null,
   "metadata": {},
   "outputs": [],
   "source": [
    "%%R\n",
    "\n",
    "\n",
    "#congenital heart disease diagnosis\n",
    "barsum(Heart$congenital, 'congenital heart disease diagnosis')"
   ]
  },
  {
   "cell_type": "code",
   "execution_count": null,
   "metadata": {},
   "outputs": [],
   "source": [
    "%%R\n",
    "\n",
    "#cmassratio; unclear\n",
    "histsum(Heart$cmassratio, 'cmassratio; unclear')\n",
    "logcmassr <- log10(Heart$cmassratio)\n",
    "histsum(logcmassr, 'log cmassratio; unclear')\n",
    "#75052 missing >15%, logtransform"
   ]
  }
 ],
 "metadata": {
  "kernelspec": {
   "display_name": "Python 3",
   "language": "python",
   "name": "python3"
  },
  "language_info": {
   "codemirror_mode": {
    "name": "ipython",
    "version": 3
   },
   "file_extension": ".py",
   "mimetype": "text/x-python",
   "name": "python",
   "nbconvert_exporter": "python",
   "pygments_lexer": "ipython3",
   "version": "3.8.6"
  },
  "toc": {
   "base_numbering": 1,
   "nav_menu": {},
   "number_sections": true,
   "sideBar": true,
   "skip_h1_title": false,
   "title_cell": "Table of Contents",
   "title_sidebar": "Contents",
   "toc_cell": false,
   "toc_position": {},
   "toc_section_display": true,
   "toc_window_display": false
  }
 },
 "nbformat": 4,
 "nbformat_minor": 1
}
