{
 "cells": [
  {
   "cell_type": "code",
   "execution_count": null,
   "metadata": {},
   "outputs": [],
   "source": [
    "%load_ext autoreload\n",
    "%autoreload 2\n",
    "%load_ext autotime\n",
    "%config InlineBackend.figure_format = 'retina'\n",
    "\n",
    "import itertools\n",
    "import os\n",
    "from pathlib import Path\n",
    "\n",
    "for folder in itertools.chain([Path.cwd()], Path.cwd().parents):\n",
    "    if (folder / 'Pipfile').exists():\n",
    "        os.chdir(folder)\n",
    "        break\n",
    "\n",
    "import logging\n",
    "import shelve\n",
    "from functools import partial\n",
    "from matplotlib import pyplot as plt\n",
    "from pandas import DataFrame, Series\n",
    "from utils import remove_suffixes\n",
    "\n",
    "from sklearn.model_selection import KFold\n",
    "from typing import Mapping, List, Tuple, Iterable, Callable, TypedDict\n",
    "\n",
    "from evaluation_functions import get_classification_metrics, compute_classification_metrics_from_results_with_statistics\n",
    "from formatting import dict_to_table_horizontal, b\n",
    "from functional import pipe\n",
    "from nested_cv import evaluate_method_on_sets, DefaultHyperParameters, BayesianOptimization\n",
    "from notebooks.heart_transplant.dependencies.heart_transplant_data import get_survival_dataset_cached\n",
    "from notebooks.heart_transplant.dependencies.heart_transplant_functions import get_rolling_cv_cached, get_filtered_by_age, AgeGroup, present_table_base, get_survival_y, get_shuffled_10_fold_callback, get_rolling_cv_callback\n",
    "from notebooks.heart_transplant.dependencies.heart_transplant_pipelines import get_xgboost_pipeline, get_cox_ph_pipeline, cox_ph_hyperopt\n",
    "from utils import evaluate_and_assign_if_not_present, mapping_subset\n",
    "from visualisation import list_of_lists_to_html_table, display_html\n",
    "from notebooks.heart_transplant.dependencies.heart_transplant_pipelines import  CoxPHSurvivalAnalysis1Year\n"
   ]
  },
  {
   "cell_type": "code",
   "execution_count": 19,
   "metadata": {},
   "outputs": [
    {
     "name": "stdout",
     "output_type": "stream",
     "text": [
      "[Memory]5656.3s, 94.3min: Loading get_survival_dataset...\n",
      "[Memory]5657.7s, 94.3min: Loading get_survival_dataset...\n",
      "time: 2.83 s (started: 2021-03-25 12:59:17 +00:00)\n"
     ]
    }
   ],
   "source": [
    "logging.getLogger().setLevel(logging.DEBUG)\n",
    "\n",
    "X_365, y_365, futd_365, death_365, dataset_raw = get_survival_dataset_cached(365)\n",
    "\n",
    "X_90, y_90, futd_90, death_90, _ = get_survival_dataset_cached(90)"
   ]
  },
  {
   "cell_type": "code",
   "metadata": {
    "pycharm": {
     "name": "#%%\n"
    }
   },
   "source": [
    "class InputData(TypedDict):\n",
    "    cv: Iterable[Tuple[List[int], ...]] # List of train-test splits (compatible with sklearn)\n",
    "    X: DataFrame # Input data\n",
    "    y: Series # Survival at some time point\n",
    "    futd: Series # Follow-up time (days)\n",
    "    death: Series # Outcome (0 or 1)\n",
    "\n",
    "def get_data(_X: DataFrame, _y: Series, futd: Series, death: Series, _dataset_raw: DataFrame, cv_callback: Callable ) -> InputData:\n",
    "    return InputData(\n",
    "        cv= cv_callback(_X, _dataset_raw),\n",
    "        X= _X,\n",
    "        y= _y,\n",
    "        futd= futd.loc[_X.index],\n",
    "        death= death.loc[_X.index],\n",
    "    )"
   ],
   "execution_count": 20,
   "outputs": [
    {
     "name": "stdout",
     "output_type": "stream",
     "text": [
      "time: 1.31 ms (started: 2021-03-25 12:59:20 +00:00)\n"
     ]
    }
   ]
  },
  {
   "cell_type": "markdown",
   "source": [
    "- Below is a list of datasets to evaluate the models on. It is a flat structure. You need a separate dataset for 365 and 90 days, since there few individuals are removed\n",
    "- Two types of CV: chronological (rolling) and shuffled 10-fold\n",
    "- Subsets: e.g. 365 survival, $ \\leq 18$, $ > 18$, 90 days"
   ],
   "metadata": {
    "collapsed": false,
    "pycharm": {
     "name": "#%% md\n"
    }
   }
  },
  {
   "cell_type": "code",
   "execution_count": 21,
   "outputs": [
    {
     "name": "stdout",
     "output_type": "stream",
     "text": [
      "________________________________________________________________________________\n",
      "[Memory] Calling notebooks.heart_transplant.dependencies.heart_transplant_functions.get_rolling_cv...\n",
      "get_rolling_cv(        thoracic_dgn gender abo   bmi_calc ebv_igg_cad_don  iabp_tcr  \\\n",
      "2             1002.0      F   O  25.059293               P         0   \n",
      "3             1000.0      M   B  32.140327             NaN         0   \n",
      "5             1007.0      M   A  25.501607               P         0   \n",
      "6             1007.0      M   A  29.023330               P         0   \n",
      "7             1000.0      M   A  21.894900               P         0   \n",
      "...              ...    ...  ..        ...             ...       ...   \n",
      "153202        1007.0      M   A  24.956678               P         0   \n",
      "153203        1000.0      F   A  30.973245             NaN         0   \n",
      "153204        1007.0      F   A  32.269808          ..., n_windows=None, test_size_years=1, minimum_training_years=10, year_stop=2016)\n"
     ]
    },
    {
     "name": "stderr",
     "output_type": "stream",
     "text": [
      "<ipython-input-10-169f3ee28f62>:18: UserWarning: Persisting input arguments took 5.97s to run.\n",
      "If this happens often in your code, it can cause performance problems \n",
      "(results will be correct in all cases). \n",
      "The reason for this is probably some large input arguments for a wrapped\n",
      " function (e.g. large strings).\n",
      "THIS IS A JOBLIB ISSUE. If you can, kindly provide the joblib's team with an\n",
      " example so that they can fix the problem.\n",
      "  return list(get_rolling_cv_cached(\n"
     ]
    },
    {
     "name": "stdout",
     "output_type": "stream",
     "text": [
      "___________________________________________________get_rolling_cv - 6.0s, 0.1min\n",
      "2004 2017 13\n",
      "________________________________________________________________________________\n",
      "[Memory] Calling notebooks.heart_transplant.dependencies.heart_transplant_functions.get_rolling_cv...\n",
      "get_rolling_cv(        thoracic_dgn gender abo   bmi_calc ebv_igg_cad_don  iabp_tcr  \\\n",
      "2             1002.0      F   O  25.059293               P         0   \n",
      "3             1000.0      M   B  32.140327             NaN         0   \n",
      "5             1007.0      M   A  25.501607               P         0   \n",
      "6             1007.0      M   A  29.023330               P         0   \n",
      "7             1000.0      M   A  21.894900               P         0   \n",
      "...              ...    ...  ..        ...             ...       ...   \n",
      "153202        1007.0      M   A  24.956678               P         0   \n",
      "153203        1000.0      F   A  30.973245             NaN         0   \n",
      "153204        1007.0      F   A  32.269808          ..., n_windows=None, test_size_years=1, minimum_training_years=10, year_stop=2016)\n"
     ]
    },
    {
     "name": "stderr",
     "output_type": "stream",
     "text": [
      "<ipython-input-10-169f3ee28f62>:18: UserWarning: Persisting input arguments took 5.95s to run.\n",
      "If this happens often in your code, it can cause performance problems \n",
      "(results will be correct in all cases). \n",
      "The reason for this is probably some large input arguments for a wrapped\n",
      " function (e.g. large strings).\n",
      "THIS IS A JOBLIB ISSUE. If you can, kindly provide the joblib's team with an\n",
      " example so that they can fix the problem.\n",
      "  return list(get_rolling_cv_cached(\n"
     ]
    },
    {
     "name": "stdout",
     "output_type": "stream",
     "text": [
      "___________________________________________________get_rolling_cv - 6.0s, 0.1min\n",
      "2004 2017 13\n",
      "________________________________________________________________________________\n",
      "[Memory] Calling notebooks.heart_transplant.dependencies.heart_transplant_functions.get_rolling_cv...\n",
      "get_rolling_cv(        thoracic_dgn gender abo   bmi_calc ebv_igg_cad_don  iabp_tcr  \\\n",
      "2             1002.0      F   O  25.059293               P         0   \n",
      "3             1000.0      M   B  32.140327             NaN         0   \n",
      "5             1007.0      M   A  25.501607               P         0   \n",
      "6             1007.0      M   A  29.023330               P         0   \n",
      "7             1000.0      M   A  21.894900               P         0   \n",
      "...              ...    ...  ..        ...             ...       ...   \n",
      "153202        1007.0      M   A  24.956678               P         0   \n",
      "153203        1000.0      F   A  30.973245             NaN         0   \n",
      "153204        1007.0      F   A  32.269808          ..., n_windows=None, test_size_years=1, minimum_training_years=10, year_stop=2016)\n"
     ]
    },
    {
     "name": "stderr",
     "output_type": "stream",
     "text": [
      "<ipython-input-10-169f3ee28f62>:18: UserWarning: Persisting input arguments took 5.35s to run.\n",
      "If this happens often in your code, it can cause performance problems \n",
      "(results will be correct in all cases). \n",
      "The reason for this is probably some large input arguments for a wrapped\n",
      " function (e.g. large strings).\n",
      "THIS IS A JOBLIB ISSUE. If you can, kindly provide the joblib's team with an\n",
      " example so that they can fix the problem.\n",
      "  return list(get_rolling_cv_cached(\n"
     ]
    },
    {
     "name": "stdout",
     "output_type": "stream",
     "text": [
      "___________________________________________________get_rolling_cv - 5.3s, 0.1min\n",
      "2004 2017 13\n",
      "________________________________________________________________________________\n",
      "[Memory] Calling notebooks.heart_transplant.dependencies.heart_transplant_functions.get_rolling_cv...\n",
      "get_rolling_cv(        thoracic_dgn gender abo   bmi_calc  iabp_tcr  inotropes_tcr  \\\n",
      "21            1000.0      M   A  21.600000         0              0   \n",
      "31            1207.0      M   O  18.986442         0              0   \n",
      "51            1203.0      F   O  12.500000         0              0   \n",
      "93            1000.0      M   O  24.609375         0              1   \n",
      "98            1203.0      F   A  12.755102         0              1   \n",
      "...              ...    ...  ..        ...       ...            ...   \n",
      "152913        1207.0      M   A  20.328481         0              1   \n",
      "152915        1000.0      F   O  16.982310         0              1   \n",
      "152939        1003.0      F   B  18.169717         0         ..., n_windows=None, test_size_years=1, minimum_training_years=10, year_stop=2016)\n"
     ]
    },
    {
     "name": "stderr",
     "output_type": "stream",
     "text": [
      "<ipython-input-10-169f3ee28f62>:18: UserWarning: Persisting input arguments took 0.75s to run.\n",
      "If this happens often in your code, it can cause performance problems \n",
      "(results will be correct in all cases). \n",
      "The reason for this is probably some large input arguments for a wrapped\n",
      " function (e.g. large strings).\n",
      "THIS IS A JOBLIB ISSUE. If you can, kindly provide the joblib's team with an\n",
      " example so that they can fix the problem.\n",
      "  return list(get_rolling_cv_cached(\n"
     ]
    },
    {
     "name": "stdout",
     "output_type": "stream",
     "text": [
      "___________________________________________________get_rolling_cv - 0.7s, 0.0min\n",
      "2004 2017 13\n",
      "time: 5min 44s (started: 2021-03-25 12:59:20 +00:00)\n"
     ]
    }
   ],
   "source": [
    "data: Mapping[str, InputData] = {\n",
    "    '365_all_rolling': get_data(\n",
    "        X_365,\n",
    "        y_365,\n",
    "        futd_365,\n",
    "        death_365,\n",
    "        dataset_raw,\n",
    "        get_rolling_cv_callback,\n",
    "    ),\n",
    "\n",
    "    '90_all_rolling': get_data(\n",
    "        X_90,\n",
    "        y_90,\n",
    "        futd_90,\n",
    "        death_90,\n",
    "        dataset_raw,\n",
    "        get_rolling_cv_callback,\n",
    "    ),\n",
    "\n",
    "    '365_all_shuffled_10_fold': get_data(\n",
    "        X_365,\n",
    "        y_365,\n",
    "        futd_365,\n",
    "        death_365,\n",
    "        dataset_raw,\n",
    "        get_shuffled_10_fold_callback,\n",
    "    ),\n",
    "\n",
    "    '365_me_18_rolling': get_data(\n",
    "        get_filtered_by_age(AgeGroup.ME_18, X_365),\n",
    "        y_365,\n",
    "        futd_365,\n",
    "        death_365,\n",
    "        dataset_raw,\n",
    "        get_rolling_cv_callback\n",
    "    ),\n",
    "    '365_l_18_rolling': get_data(\n",
    "        get_filtered_by_age(AgeGroup.L_18, X_365).drop(columns=['biopsy_dgn', 'cig_use', 'ebv_igg_cad_don', 'prior_card_surg_trr', 'vessels_50sten']),\n",
    "        y_365,\n",
    "        futd_365,\n",
    "        death_365,\n",
    "        dataset_raw,\n",
    "        get_rolling_cv_callback\n",
    "    ),\n",
    "}"
   ],
   "metadata": {
    "collapsed": false,
    "pycharm": {
     "name": "#%%\n"
    }
   }
  },
  {
   "cell_type": "code",
   "execution_count": null,
   "outputs": [],
   "source": [
    "def get_cache():\n",
    "    return shelve.open('cache')\n",
    "\n",
    "for subset_name, dataset in data.items():\n",
    "\n",
    "    y_survival = pipe(\n",
    "        dataset,\n",
    "        partial(mapping_subset, ('futd', 'death')),\n",
    "        DataFrame,\n",
    "        get_survival_y,\n",
    "    )\n",
    "\n",
    "    evaluate_and_assign_if_not_present(\n",
    "        get_cache,\n",
    "        key=subset_name+\"_default\",\n",
    "        callback=lambda: evaluate_method_on_sets(\n",
    "            lambda: get_cox_ph_pipeline(dataset['X']),   # XGBoost would normally wouldn't take 'death' as y\n",
    "            dataset['X'],\n",
    "            y_survival,\n",
    "            DefaultHyperParameters(),\n",
    "            splits=dataset['cv'],\n",
    "            parallel=True,\n",
    "            n_jobs=len(dataset['cv']),\n",
    "            get_metrics=lambda _, result: get_classification_metrics(dataset['y'], result)\n",
    "        ),\n",
    "    )\n",
    "\n",
    "    # TODO: cox ph stuck or taking too long\n",
    "    # evaluate_and_assign_if_not_present(\n",
    "    #     get_cache,\n",
    "    #     key=subset_name+\"_tuned\",\n",
    "    #     callback=lambda: evaluate_method_on_sets(\n",
    "    #         lambda: get_cox_ph_pipeline(dataset['X']),\n",
    "    #         dataset['X'],\n",
    "    #         y_survival,\n",
    "    #         BayesianOptimization(cox_ph_hyperopt, iterations=1),\n",
    "    #         splits=dataset['cv'],\n",
    "    #         parallel=True,\n",
    "    #         n_jobs=len(dataset['cv']),\n",
    "    #         get_metrics=lambda _, result: get_classification_metrics(dataset['y'], result)\n",
    "    #     ),\n",
    "    # )"
   ],
   "metadata": {
    "collapsed": false,
    "pycharm": {
     "name": "#%%\n"
    }
   }
  },
  {
   "cell_type": "code",
   "execution_count": 47,
   "outputs": [
    {
     "name": "stderr",
     "output_type": "stream",
     "text": [
      "Exception ignored in: <function tqdm.__del__ at 0x7f911af79280>\n",
      "Traceback (most recent call last):\n",
      "  File \"/usr/local/lib/python3.8/dist-packages/tqdm/std.py\", line 1143, in __del__\n",
      "    self.close()\n",
      "  File \"/usr/local/lib/python3.8/dist-packages/tqdm/std.py\", line 1262, in close\n",
      "    if self.disable:\n",
      "AttributeError: 'tqdm' object has no attribute 'disable'\n"
     ]
    },
    {
     "data": {
      "text/plain": "<IPython.core.display.HTML object>",
      "text/html": "<b>365_l_18_rolling_default</b>"
     },
     "metadata": {},
     "output_type": "display_data"
    },
    {
     "data": {
      "text/plain": "<IPython.core.display.HTML object>",
      "text/html": "<table><tr><td>recall</td><td>0.666 ±0.09 0.609—0.722</td></tr><tr><td>precision</td><td>0.134 ±0.025 0.119—0.15</td></tr><tr><td>f1</td><td>0.222 ±0.035 0.2—0.244</td></tr><tr><td>tnr</td><td>0.543 ±0.11 0.474—0.612</td></tr><tr><td>fpr</td><td>0.457 ±0.11 0.388—0.526</td></tr><tr><td>fnr</td><td>0.334 ±0.09 0.278—0.391</td></tr><tr><td>accuracy</td><td>0.559 ±0.092 0.501—0.617</td></tr><tr><td>roc_auc</td><td>0.633 ±0.056 0.598—0.668</td></tr><tr><td>average_precision</td><td>0.186 ±0.051 0.153—0.218</td></tr><tr><td>balanced_accuracy</td><td>0.606 ±0.053 0.572—0.639</td></tr><tr><td>brier_score</td><td>0.087 ±0.021 0.074—0.1</td></tr><tr><td>npv</td><td>0.936 ±0.028 0.918—0.954</td></tr></table>"
     },
     "metadata": {},
     "output_type": "display_data"
    },
    {
     "data": {
      "text/plain": "<IPython.core.display.HTML object>",
      "text/html": "<b>365_me_18_rolling_default</b>"
     },
     "metadata": {},
     "output_type": "display_data"
    },
    {
     "data": {
      "text/plain": "<IPython.core.display.HTML object>",
      "text/html": "<table><tr><td>recall</td><td>0.421 ±0.079 0.371—0.471</td></tr><tr><td>precision</td><td>0.173 ±0.037 0.15—0.196</td></tr><tr><td>f1</td><td>0.241 ±0.032 0.221—0.26</td></tr><tr><td>tnr</td><td>0.738 ±0.081 0.686—0.789</td></tr><tr><td>fpr</td><td>0.262 ±0.081 0.211—0.314</td></tr><tr><td>fnr</td><td>0.579 ±0.079 0.529—0.629</td></tr><tr><td>accuracy</td><td>0.702 ±0.065 0.661—0.743</td></tr><tr><td>roc_auc</td><td>0.61 ±0.03 0.592—0.629</td></tr><tr><td>average_precision</td><td>0.185 ±0.037 0.162—0.209</td></tr><tr><td>balanced_accuracy</td><td>0.579 ±0.025 0.564—0.595</td></tr><tr><td>brier_score</td><td>0.099 ±0.017 0.088—0.109</td></tr><tr><td>npv</td><td>0.909 ±0.021 0.896—0.922</td></tr></table>"
     },
     "metadata": {},
     "output_type": "display_data"
    },
    {
     "data": {
      "text/plain": "<IPython.core.display.HTML object>",
      "text/html": "<b>365_all_rolling_default</b>"
     },
     "metadata": {},
     "output_type": "display_data"
    },
    {
     "data": {
      "text/plain": "<IPython.core.display.HTML object>",
      "text/html": "<table><tr><td>recall</td><td>0.526 ±0.093 0.467—0.584</td></tr><tr><td>precision</td><td>0.157 ±0.031 0.137—0.177</td></tr><tr><td>f1</td><td>0.238 ±0.029 0.22—0.256</td></tr><tr><td>tnr</td><td>0.644 ±0.099 0.581—0.706</td></tr><tr><td>fpr</td><td>0.356 ±0.099 0.294—0.419</td></tr><tr><td>fnr</td><td>0.474 ±0.093 0.416—0.533</td></tr><tr><td>accuracy</td><td>0.63 ±0.077 0.582—0.679</td></tr><tr><td>roc_auc</td><td>0.615 ±0.029 0.597—0.633</td></tr><tr><td>average_precision</td><td>0.183 ±0.034 0.161—0.204</td></tr><tr><td>balanced_accuracy</td><td>0.585 ±0.023 0.57—0.599</td></tr><tr><td>brier_score</td><td>0.097 ±0.018 0.086—0.108</td></tr><tr><td>npv</td><td>0.916 ±0.021 0.903—0.929</td></tr></table>"
     },
     "metadata": {},
     "output_type": "display_data"
    },
    {
     "data": {
      "text/plain": "<IPython.core.display.HTML object>",
      "text/html": "<b>365_all_shuffled_10_fold_default</b>"
     },
     "metadata": {},
     "output_type": "display_data"
    },
    {
     "data": {
      "text/plain": "<IPython.core.display.HTML object>",
      "text/html": "<table><tr><td>recall</td><td>0.585 ±0.017 0.572—0.598</td></tr><tr><td>precision</td><td>0.177 ±0.007 0.171—0.182</td></tr><tr><td>f1</td><td>0.272 ±0.01 0.264—0.279</td></tr><tr><td>tnr</td><td>0.617 ±0.008 0.611—0.622</td></tr><tr><td>fpr</td><td>0.383 ±0.008 0.378—0.389</td></tr><tr><td>fnr</td><td>0.415 ±0.017 0.402—0.428</td></tr><tr><td>accuracy</td><td>0.613 ±0.006 0.608—0.617</td></tr><tr><td>roc_auc</td><td>0.64 ±0.008 0.634—0.646</td></tr><tr><td>average_precision</td><td>0.22 ±0.01 0.212—0.227</td></tr><tr><td>balanced_accuracy</td><td>0.601 ±0.009 0.594—0.607</td></tr><tr><td>brier_score</td><td>0.105 ±0.002 0.103—0.106</td></tr><tr><td>npv</td><td>0.913 ±0.004 0.91—0.916</td></tr></table>"
     },
     "metadata": {},
     "output_type": "display_data"
    },
    {
     "data": {
      "text/plain": "<IPython.core.display.HTML object>",
      "text/html": "<b>90_all_rolling_default</b>"
     },
     "metadata": {},
     "output_type": "display_data"
    },
    {
     "data": {
      "text/plain": "<IPython.core.display.HTML object>",
      "text/html": "<table><tr><td>recall</td><td>0.559 ±0.106 0.492—0.626</td></tr><tr><td>precision</td><td>0.098 ±0.011 0.091—0.105</td></tr><tr><td>f1</td><td>0.166 ±0.015 0.156—0.175</td></tr><tr><td>tnr</td><td>0.642 ±0.099 0.58—0.705</td></tr><tr><td>fpr</td><td>0.358 ±0.099 0.295—0.42</td></tr><tr><td>fnr</td><td>0.441 ±0.106 0.374—0.508</td></tr><tr><td>accuracy</td><td>0.638 ±0.087 0.583—0.692</td></tr><tr><td>roc_auc</td><td>0.633 ±0.036 0.611—0.656</td></tr><tr><td>average_precision</td><td>0.126 ±0.026 0.11—0.143</td></tr><tr><td>balanced_accuracy</td><td>0.601 ±0.029 0.582—0.619</td></tr><tr><td>brier_score</td><td>0.063 ±0.011 0.056—0.07</td></tr><tr><td>npv</td><td>0.955 ±0.011 0.948—0.962</td></tr></table>"
     },
     "metadata": {},
     "output_type": "display_data"
    },
    {
     "name": "stdout",
     "output_type": "stream",
     "text": [
      "time: 1min 19s (started: 2021-03-25 15:57:28 +00:00)\n"
     ]
    }
   ],
   "source": [
    "with get_cache() as cache:\n",
    "    for subset_name, results in cache.items():\n",
    "        subset_name_base = remove_suffixes(('_default', '_tuned'), subset_name)\n",
    "        data_item = data[subset_name_base]\n",
    "        metrics = compute_classification_metrics_from_results_with_statistics(\n",
    "            data_item['y'],\n",
    "            [cache[subset_name]['chosen']['result']],\n",
    "            ignore_warning=True,\n",
    "        )\n",
    "        b(subset_name)\n",
    "        pipe(\n",
    "            metrics,\n",
    "            dict_to_table_horizontal,\n",
    "            list_of_lists_to_html_table,\n",
    "            display_html,\n",
    "        )"
   ],
   "metadata": {
    "collapsed": false,
    "pycharm": {
     "name": "#%%\n"
    }
   }
  }
 ],
 "metadata": {
  "kernelspec": {
   "name": "python3",
   "language": "python",
   "display_name": "Python 3"
  }
 },
 "nbformat": 4,
 "nbformat_minor": 4
}