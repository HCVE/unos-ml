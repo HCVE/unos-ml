{
 "cells": [
  {
   "cell_type": "markdown",
   "source": [
    "## ⚠ TODO: NOT FINISHED"
   ],
   "metadata": {
    "collapsed": false
   }
  },
  {
   "cell_type": "code",
   "execution_count": 7,
   "metadata": {},
   "outputs": [
    {
     "name": "stdout",
     "output_type": "stream",
     "text": [
      "The autoreload extension is already loaded. To reload it, use:\n",
      "  %reload_ext autoreload\n",
      "The autotime extension is already loaded. To reload it, use:\n",
      "  %reload_ext autotime\n",
      "time: 1.01 s (started: 2021-03-25 12:38:11 +00:00)\n"
     ]
    }
   ],
   "source": [
    "%load_ext autoreload\n",
    "%autoreload 2\n",
    "%load_ext autotime\n",
    "%config InlineBackend.figure_format = 'retina'\n",
    "\n",
    "import itertools\n",
    "import os\n",
    "from collections import defaultdict\n",
    "from pathlib import Path\n",
    "from sklearn.model_selection import KFold\n",
    "from toolz import valmap\n",
    "from typing import Tuple\n",
    "\n",
    "for folder in itertools.chain([Path.cwd()], Path.cwd().parents):\n",
    "    if (folder / 'Pipfile').exists():\n",
    "        os.chdir(folder)\n",
    "        break\n",
    "\n",
    "from notebooks.heart_transplant.dependencies.heart_transplant_data import get_rolling_cv_inputs_cached"
   ]
  },
  {
   "cell_type": "code",
   "execution_count": 8,
   "metadata": {},
   "outputs": [
    {
     "name": "stdout",
     "output_type": "stream",
     "text": [
      "[Memory]0.9s, 0.0min    : Loading get_rolling_cv_inputs...\n",
      "time: 1.97 s (started: 2021-03-25 12:38:12 +00:00)\n"
     ]
    }
   ],
   "source": [
    "_, y, X, dataset_raw, sampling_sets = get_rolling_cv_inputs_cached()"
   ]
  },
  {
   "cell_type": "code",
   "execution_count": null,
   "outputs": [],
   "source": [
    "N_WINDOWS = 15\n",
    "\n",
    "threshold_years = pipe(\n",
    "    np.linspace(2010, 2015, N_WINDOWS),\n",
    "    partial(map, round),\n",
    "#     append_is_last,\n",
    ")\n",
    "\n",
    "for nr, window_year_to in enumerate(threshold_years):\n",
    "\n",
    "    X_window = X_reduced.assign(tx_year=dataset_raw['tx_year'])\n",
    "\n",
    "\n",
    "    X_window = X_window[X_window['tx_year'] <= window_year_to]\n",
    "    X_window = X_window.sort_values(by='tx_year')\n",
    "\n",
    "    removed_features = []\n",
    "    for feature in X_window.columns:\n",
    "        counts = X_window[feature].value_counts()\n",
    "\n",
    "        if len(counts) < 2:\n",
    "            removed_features.append(feature)\n",
    "\n",
    "    print('Removed features:', formatting.format_list(removed_features))\n",
    "    features = [ column for column in X_window.columns if column not in removed_features ]\n",
    "    X_window_normalized = X_window[features]\n",
    "\n",
    "\n",
    "\n",
    "    X_window_level_1 = X_window_normalized[X_window_normalized['tx_year'] <= window_year_to - 5]\n",
    "    X_window_level_2 = X_window_normalized[\n",
    "        (X_window_normalized['tx_year'] > window_year_to - 5) & (X_window_normalized['tx_year'] <= window_year_to - 1)\n",
    "    ]\n",
    "\n",
    "    X_window_test = X_window_normalized[X_window_normalized['tx_year'] == window_year_to ]\n",
    "\n",
    "    y_window_level_1 = y_reduced.loc[X_window_level_1.index]\n",
    "    y_window_level_2 = y_reduced.loc[X_window_level_2.index]\n",
    "    y_window_test = y_reduced.loc[X_window_test.index]\n",
    "\n",
    "\n",
    "    print()\n",
    "    print(window_year_to)\n",
    "    print(f'Window 1 n={len(X_window_level_1)}')\n",
    "    print(f'Window 2 n={len(X_window_level_2)}')\n",
    "    print(f'Window Test n={len(X_window_test)}')\n",
    "    print()\n",
    "\n",
    "    lr = make_pipeline(\n",
    "        get_transform_pipeline(features=features),\n",
    "        StandardScaler(),\n",
    "        LogisticRegression(),\n",
    "    )\n",
    "    lr.fit(X_window_level_1, y_window_level_1)\n",
    "\n",
    "    random_forest = get_random_forest_pipeline(features=features)\n",
    "    random_forest.fit(X_window_level_1, y_window_level_1)\n",
    "\n",
    "    y_window_level_2_predict_lr = lr.predict_proba(X_window_level_2)[:, 1]\n",
    "    y_window_level_2_predict_rf = random_forest.predict_proba(X_window_level_2)[:, 1]\n",
    "\n",
    "    X_predicted_for_level_2 = DataFrame({\n",
    "        'y_lr': y_window_level_2_predict_lr,\n",
    "        'y_rf': y_window_level_2_predict_rf,\n",
    "        'tx_year': X_window_level_2,\n",
    "    }, index=X_window_level_2.index)\n",
    "\n",
    "    level2_predictor = make_pipeline(\n",
    "        get_transform_pipeline(features=features + ['y_lr', 'y_rf'], extra_continuous_features=['y_lr', 'y_rf']),\n",
    "        StandardScaler(),\n",
    "        MLPClassifier(),\n",
    "    )\n",
    "\n",
    "    level2_predictor.fit(X_predicted_for_level_2, y_window_level_2)\n",
    "\n",
    "    X_predicted_for_test_lr = lr.predict_proba(X_window_test)[:, 1]\n",
    "    X_predicted_for_test_rf = random_forest.predict_proba(X_window_test)[:, 1]\n",
    "    X_predicted_for_test = DataFrame({\n",
    "        'y_lr': X_predicted_for_test_lr,\n",
    "        'y_rf': X_predicted_for_test_rf,\n",
    "        'tx_year': X_window_test['tx_year'],\n",
    "    })\n",
    "\n",
    "    y_window_test_predict = level2_predictor.predict_proba(X_predicted_for_test)[:, 1]\n",
    "    roc_auc = roc_auc_score(y_window_test, y_window_test_predict)\n",
    "    results_stacked['mlp'][window_year_to] = roc_auc"
   ],
   "metadata": {
    "collapsed": false,
    "pycharm": {
     "name": "#%%\n"
    }
   }
  }
 ],
 "metadata": {
  "kernelspec": {
   "display_name": "Python 3",
   "language": "python",
   "name": "python3"
  }
 },
 "nbformat": 4,
 "nbformat_minor": 4
}