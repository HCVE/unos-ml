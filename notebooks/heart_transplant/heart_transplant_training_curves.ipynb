{
 "cells": [
  {
   "cell_type": "code",
   "execution_count": 2,
   "metadata": {},
   "outputs": [],
   "source": [
    "import itertools\n",
    "import os\n",
    "from pathlib import Path\n",
    "for folder in itertools.chain([Path.cwd()], Path.cwd().parents):\n",
    "    if (folder / 'Pipfile').exists():\n",
    "        os.chdir(folder)\n",
    "        break\n",
    "\n",
    "import shelve\n",
    "\n",
    "from matplotlib import pyplot\n",
    "from toolz import keyfilter\n",
    "\n",
    "from formatting import h2, format_ci, format_decimal, render_struct_table\n",
    "from notebooks.heart_transplant.heart_transplant_training_curves import \\\n",
    "    HEART_TRANSPLANT_TRAINING_CURVES_EXPANDING_IDENTIFIER\n",
    "from utils import transpose_list, transpose_dicts\n",
    "from visualisation import set_integer_ticks, display_html\n",
    "\n",
    "%load_ext autoreload\n",
    "%autoreload 2\n",
    "%config InlineBackend.figure_format = 'retina'\n",
    "\n",
    "from notebooks.heart_transplant.dependencies.heart_transplant_functions import  format_heart_transplant_method_name\n",
    "\n",
    "from notebooks.heart_transplant.dependencies.heart_transplant_data import get_reduced_binary_dataset_cached\n",
    "\n",
    "pyplot.style.use('default')\n",
    "\n",
    "PUBLISH_FOLDER  = './data/heart_transplant/publish'"
   ]
  },
  {
   "cell_type": "code",
   "execution_count": 3,
   "metadata": {},
   "outputs": [
    {
     "name": "stdout",
     "output_type": "stream",
     "text": [
      "[Memory]0.8s, 0.0min    : Loading get_reduced_binary_dataset...\n",
      "[Memory]2.6s, 0.0min    : Loading get_reduced_binary_dataset...\n"
     ]
    }
   ],
   "source": [
    "X_365, y_365, dataset_raw = get_reduced_binary_dataset_cached()\n",
    "\n",
    "X_90, y_90, _ = get_reduced_binary_dataset_cached(survival_days=90)\n",
    "\n",
    "# %%\n",
    "# fill_between(train_sizes, fit_times_mean - fit_times_std,\n",
    "#                          fit_times_mean + fit_times_std, alpha=0.1)"
   ]
  },
  {
   "cell_type": "code",
   "execution_count": 4,
   "metadata": {},
   "outputs": [
    {
     "ename": "error",
     "evalue": "db file doesn't exist; use 'c' or 'n' flag to create a new db",
     "output_type": "error",
     "traceback": [
      "\u001B[0;31m---------------------------------------------------------------------------\u001B[0m",
      "\u001B[0;31merror\u001B[0m                                     Traceback (most recent call last)",
      "\u001B[0;32m<ipython-input-4-aa8f5cbedd5c>\u001B[0m in \u001B[0;36m<module>\u001B[0;34m\u001B[0m\n\u001B[0;32m----> 1\u001B[0;31m \u001B[0;32mwith\u001B[0m \u001B[0mshelve\u001B[0m\u001B[0;34m.\u001B[0m\u001B[0mopen\u001B[0m\u001B[0;34m(\u001B[0m\u001B[0mHEART_TRANSPLANT_TRAINING_CURVES_EXPANDING_IDENTIFIER\u001B[0m\u001B[0;34m+\u001B[0m\u001B[0;34m'_365_ALL'\u001B[0m\u001B[0;34m,\u001B[0m \u001B[0;34m'ru'\u001B[0m\u001B[0;34m)\u001B[0m \u001B[0;32mas\u001B[0m \u001B[0mdata\u001B[0m\u001B[0;34m:\u001B[0m\u001B[0;34m\u001B[0m\u001B[0;34m\u001B[0m\u001B[0m\n\u001B[0m\u001B[1;32m      2\u001B[0m \u001B[0;34m\u001B[0m\u001B[0m\n\u001B[1;32m      3\u001B[0m     \u001B[0;32mdef\u001B[0m \u001B[0mplot_x_y\u001B[0m\u001B[0;34m(\u001B[0m\u001B[0m_metrics\u001B[0m\u001B[0;34m,\u001B[0m \u001B[0;34m**\u001B[0m\u001B[0mkwargs\u001B[0m\u001B[0;34m)\u001B[0m\u001B[0;34m:\u001B[0m\u001B[0;34m\u001B[0m\u001B[0;34m\u001B[0m\u001B[0m\n\u001B[1;32m      4\u001B[0m         x_auc, y_auc = transpose_list([\n\u001B[1;32m      5\u001B[0m             \u001B[0;34m[\u001B[0m\u001B[0mn_features\u001B[0m\u001B[0;34m,\u001B[0m \u001B[0m_metrics\u001B[0m\u001B[0;34m[\u001B[0m\u001B[0mn_features\u001B[0m\u001B[0;34m]\u001B[0m\u001B[0;34m[\u001B[0m\u001B[0;34m'roc_auc'\u001B[0m\u001B[0;34m]\u001B[0m\u001B[0;34m.\u001B[0m\u001B[0mmean\u001B[0m\u001B[0;34m]\u001B[0m\u001B[0;34m\u001B[0m\u001B[0;34m\u001B[0m\u001B[0m\n",
      "\u001B[0;32m/usr/lib/python3.8/shelve.py\u001B[0m in \u001B[0;36mopen\u001B[0;34m(filename, flag, protocol, writeback)\u001B[0m\n\u001B[1;32m    241\u001B[0m     \"\"\"\n\u001B[1;32m    242\u001B[0m \u001B[0;34m\u001B[0m\u001B[0m\n\u001B[0;32m--> 243\u001B[0;31m     \u001B[0;32mreturn\u001B[0m \u001B[0mDbfilenameShelf\u001B[0m\u001B[0;34m(\u001B[0m\u001B[0mfilename\u001B[0m\u001B[0;34m,\u001B[0m \u001B[0mflag\u001B[0m\u001B[0;34m,\u001B[0m \u001B[0mprotocol\u001B[0m\u001B[0;34m,\u001B[0m \u001B[0mwriteback\u001B[0m\u001B[0;34m)\u001B[0m\u001B[0;34m\u001B[0m\u001B[0;34m\u001B[0m\u001B[0m\n\u001B[0m",
      "\u001B[0;32m/usr/lib/python3.8/shelve.py\u001B[0m in \u001B[0;36m__init__\u001B[0;34m(self, filename, flag, protocol, writeback)\u001B[0m\n\u001B[1;32m    225\u001B[0m     \u001B[0;32mdef\u001B[0m \u001B[0m__init__\u001B[0m\u001B[0;34m(\u001B[0m\u001B[0mself\u001B[0m\u001B[0;34m,\u001B[0m \u001B[0mfilename\u001B[0m\u001B[0;34m,\u001B[0m \u001B[0mflag\u001B[0m\u001B[0;34m=\u001B[0m\u001B[0;34m'c'\u001B[0m\u001B[0;34m,\u001B[0m \u001B[0mprotocol\u001B[0m\u001B[0;34m=\u001B[0m\u001B[0;32mNone\u001B[0m\u001B[0;34m,\u001B[0m \u001B[0mwriteback\u001B[0m\u001B[0;34m=\u001B[0m\u001B[0;32mFalse\u001B[0m\u001B[0;34m)\u001B[0m\u001B[0;34m:\u001B[0m\u001B[0;34m\u001B[0m\u001B[0;34m\u001B[0m\u001B[0m\n\u001B[1;32m    226\u001B[0m         \u001B[0;32mimport\u001B[0m \u001B[0mdbm\u001B[0m\u001B[0;34m\u001B[0m\u001B[0;34m\u001B[0m\u001B[0m\n\u001B[0;32m--> 227\u001B[0;31m         \u001B[0mShelf\u001B[0m\u001B[0;34m.\u001B[0m\u001B[0m__init__\u001B[0m\u001B[0;34m(\u001B[0m\u001B[0mself\u001B[0m\u001B[0;34m,\u001B[0m \u001B[0mdbm\u001B[0m\u001B[0;34m.\u001B[0m\u001B[0mopen\u001B[0m\u001B[0;34m(\u001B[0m\u001B[0mfilename\u001B[0m\u001B[0;34m,\u001B[0m \u001B[0mflag\u001B[0m\u001B[0;34m)\u001B[0m\u001B[0;34m,\u001B[0m \u001B[0mprotocol\u001B[0m\u001B[0;34m,\u001B[0m \u001B[0mwriteback\u001B[0m\u001B[0;34m)\u001B[0m\u001B[0;34m\u001B[0m\u001B[0;34m\u001B[0m\u001B[0m\n\u001B[0m\u001B[1;32m    228\u001B[0m \u001B[0;34m\u001B[0m\u001B[0m\n\u001B[1;32m    229\u001B[0m \u001B[0;34m\u001B[0m\u001B[0m\n",
      "\u001B[0;32m/usr/lib/python3.8/dbm/__init__.py\u001B[0m in \u001B[0;36mopen\u001B[0;34m(file, flag, mode)\u001B[0m\n\u001B[1;32m     83\u001B[0m             \u001B[0mmod\u001B[0m \u001B[0;34m=\u001B[0m \u001B[0m_defaultmod\u001B[0m\u001B[0;34m\u001B[0m\u001B[0;34m\u001B[0m\u001B[0m\n\u001B[1;32m     84\u001B[0m         \u001B[0;32melse\u001B[0m\u001B[0;34m:\u001B[0m\u001B[0;34m\u001B[0m\u001B[0;34m\u001B[0m\u001B[0m\n\u001B[0;32m---> 85\u001B[0;31m             raise error[0](\"db file doesn't exist; \"\n\u001B[0m\u001B[1;32m     86\u001B[0m                            \"use 'c' or 'n' flag to create a new db\")\n\u001B[1;32m     87\u001B[0m     \u001B[0;32melif\u001B[0m \u001B[0mresult\u001B[0m \u001B[0;34m==\u001B[0m \u001B[0;34m\"\"\u001B[0m\u001B[0;34m:\u001B[0m\u001B[0;34m\u001B[0m\u001B[0;34m\u001B[0m\u001B[0m\n",
      "\u001B[0;31merror\u001B[0m: db file doesn't exist; use 'c' or 'n' flag to create a new db"
     ]
    }
   ],
   "source": [
    "with shelve.open(HEART_TRANSPLANT_TRAINING_CURVES_EXPANDING_IDENTIFIER+'_365_ALL', 'ru') as data:\n",
    "\n",
    "    def plot_x_y(_metrics, **kwargs):\n",
    "        x_auc, y_auc = transpose_list([\n",
    "            [n_features, _metrics[n_features]['roc_auc'].mean]\n",
    "            for n_features in sorted(list(_metrics.keys()))\n",
    "        ])\n",
    "\n",
    "        x_confidence, y_low_confidence, y_high_confidence = transpose_list([\n",
    "            [n_features, *_metrics[n_features]['roc_auc'].ci]\n",
    "            for n_features in sorted(list(_metrics.keys()))\n",
    "        ])\n",
    "\n",
    "        pyplot.plot(x_auc, y_auc, **kwargs)\n",
    "        pyplot.fill_between(x_confidence, y_low_confidence, y_high_confidence, alpha=0.1)\n",
    "\n",
    "    for method_name, item in data.items():\n",
    "       pyplot.figure()\n",
    "       pyplot.grid(alpha=0.5, linestyle='--', linewidth=0.75)\n",
    "       pyplot.title(format_heart_transplant_method_name(method_name))\n",
    "       for score_type, metrics_item in keyfilter(lambda k: k in ('test'), transpose_dicts(item)).items():\n",
    "            plot_x_y(metrics_item, label=score_type)\n",
    "            pyplot.xlabel('n features')\n",
    "            pyplot.ylabel('ROC AUC')\n",
    "            pyplot.ylim(0.5, 0.7)\n",
    "       set_integer_ticks()\n",
    "    # pyplot.legend()"
   ]
  },
  {
   "cell_type": "code",
   "execution_count": null,
   "metadata": {},
   "outputs": [],
   "source": [
    "with shelve.open(HEART_TRANSPLANT_TRAINING_CURVES_EXPANDING_IDENTIFIER+'_365_ALL', 'ru') as data:\n",
    "    for method_name, series in data.items():\n",
    "        h2(method_name)\n",
    "        rows = []\n",
    "        last_item = None\n",
    "        rows.append(['<b>n features</b>', '<b>ROC AUC</b>', '<b>CI</b>', '<b>feature</b>'])\n",
    "        for n_features, item in sorted(series.items(), key=lambda i: i[0]):\n",
    "            # print()\n",
    "            current_features = set(item['features'])\n",
    "\n",
    "            if last_item:\n",
    "                rows.append([n_features, format_decimal(last_item['test']['roc_auc'].mean) + ' + ' + format_decimal(item['test']['roc_auc'].mean-last_item['test']['roc_auc'].mean), format_ci(item['test']['roc_auc'].ci), '+ '+(\",\".join(current_features-set(last_item['features'])))])\n",
    "            else:\n",
    "                rows.append([n_features, format_decimal(item['test']['roc_auc'].mean), format_ci(item['test']['roc_auc'].ci), '+ '+(\",\".join(current_features))])\n",
    "            last_item = item\n",
    "        display_html(render_struct_table(rows))"
   ]
  }
 ],
 "metadata": {
  "kernelspec": {
   "display_name": "Python 3",
   "language": "python",
   "name": "python3"
  }
 },
 "nbformat": 4,
 "nbformat_minor": 0
}